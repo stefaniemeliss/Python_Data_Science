{
  "nbformat": 4,
  "nbformat_minor": 0,
  "metadata": {
    "colab": {
      "provenance": [],
      "collapsed_sections": [],
      "mount_file_id": "1AB1GjJlFLSO-EKhJrL5t-Okt9Fy6l9dG",
      "authorship_tag": "ABX9TyOxN1EHYpvCppLJ7V9fKW+s",
      "include_colab_link": true
    },
    "kernelspec": {
      "name": "python3",
      "display_name": "Python 3"
    },
    "language_info": {
      "name": "python"
    }
  },
  "cells": [
    {
      "cell_type": "markdown",
      "metadata": {
        "id": "view-in-github",
        "colab_type": "text"
      },
      "source": [
        "<a href=\"https://colab.research.google.com/github/stefaniemeliss/Python_Data_Science/blob/main/01_Python_DS_NumPy.ipynb\" target=\"_parent\"><img src=\"https://colab.research.google.com/assets/colab-badge.svg\" alt=\"Open In Colab\"/></a>"
      ]
    },
    {
      "cell_type": "markdown",
      "source": [
        "# Introduction to NumPy"
      ],
      "metadata": {
        "id": "7IVLKCiQC18f"
      }
    },
    {
      "cell_type": "code",
      "execution_count": 202,
      "metadata": {
        "id": "KahxkU3NC1NT"
      },
      "outputs": [],
      "source": [
        "# import\n",
        "import numpy as np"
      ]
    },
    {
      "cell_type": "markdown",
      "source": [
        "In Python, types of variables are automatically inferred. \n",
        "\n",
        "Lists can be created based on heterogeneous elements (e.g., bool, str, float, int) and are then referred to as *dynamic-type* list.\n",
        "\n",
        "Lists with homogeneous elements are referred to as *fixed-type* list and computationally more efficient as they only need one pointer to a continous block of data, but also lack flexibility.\n",
        "\n",
        "To create arrays in Python, the built-in **array** module can be used.\n",
        "\n",
        "In NumPy, **ndarray** object stores data efficiently and ands operations to it (i.e., methods). \n",
        "\n",
        "## NumPy Arrays"
      ],
      "metadata": {
        "id": "ZL6vzShZEeik"
      }
    },
    {
      "cell_type": "code",
      "source": [
        "# create array from python list\n",
        "np.array([1, 4, 2, 5, 3])  "
      ],
      "metadata": {
        "colab": {
          "base_uri": "https://localhost:8080/"
        },
        "id": "dTgMRtpeHyYN",
        "outputId": "7eeaacd0-db54-4158-9c8e-bae34ba964bc"
      },
      "execution_count": 203,
      "outputs": [
        {
          "output_type": "execute_result",
          "data": {
            "text/plain": [
              "array([1, 4, 2, 5, 3])"
            ]
          },
          "metadata": {},
          "execution_count": 203
        }
      ]
    },
    {
      "cell_type": "markdown",
      "source": [
        "However, ndarrays can only store data of the same type and will upscale if possible (i.e., from integer to float)."
      ],
      "metadata": {
        "id": "eFEwEVHRcu0q"
      }
    },
    {
      "cell_type": "code",
      "source": [
        "# upscaling from integer to float\n",
        "np.array([3.14, 4, 2, 3])"
      ],
      "metadata": {
        "colab": {
          "base_uri": "https://localhost:8080/"
        },
        "id": "NWWi-I74cv-B",
        "outputId": "aa923d5b-69af-4d5b-d4b1-a99262981b73"
      },
      "execution_count": 204,
      "outputs": [
        {
          "output_type": "execute_result",
          "data": {
            "text/plain": [
              "array([3.14, 4.  , 2.  , 3.  ])"
            ]
          },
          "metadata": {},
          "execution_count": 204
        }
      ]
    },
    {
      "cell_type": "markdown",
      "source": [
        "Data type can also explicitely be specified."
      ],
      "metadata": {
        "id": "V9Lzz5o1c3Dt"
      }
    },
    {
      "cell_type": "code",
      "source": [
        "np.array([1, 2, 3, 4], dtype = 'float32')"
      ],
      "metadata": {
        "colab": {
          "base_uri": "https://localhost:8080/"
        },
        "id": "1C-ygndec7L8",
        "outputId": "f061ecb0-24b2-4ebe-f402-a913ca35695f"
      },
      "execution_count": 205,
      "outputs": [
        {
          "output_type": "execute_result",
          "data": {
            "text/plain": [
              "array([1., 2., 3., 4.], dtype=float32)"
            ]
          },
          "metadata": {},
          "execution_count": 205
        }
      ]
    },
    {
      "cell_type": "markdown",
      "source": [
        "NumPy arrays can also be multidimensional."
      ],
      "metadata": {
        "id": "Wuc0Jff_dMhc"
      }
    },
    {
      "cell_type": "code",
      "source": [
        "# create multidimensional array using nested lists\n",
        "np.array([range(i, i + 3) for i in [2, 4, 6]])\n",
        "# for each i, create an array ranging from i to excluding i + 3"
      ],
      "metadata": {
        "colab": {
          "base_uri": "https://localhost:8080/"
        },
        "id": "7mamla3JdSwh",
        "outputId": "d0409070-b567-4c1d-8230-18b6f4627cd9"
      },
      "execution_count": 206,
      "outputs": [
        {
          "output_type": "execute_result",
          "data": {
            "text/plain": [
              "array([[2, 3, 4],\n",
              "       [4, 5, 6],\n",
              "       [6, 7, 8]])"
            ]
          },
          "metadata": {},
          "execution_count": 206
        }
      ]
    },
    {
      "cell_type": "markdown",
      "source": [
        "There are several routins built into NumPy to create arrays."
      ],
      "metadata": {
        "id": "gnFDaL0MT0aQ"
      }
    },
    {
      "cell_type": "code",
      "source": [
        "# Create a length-10 integer array filled with zeros\n",
        "np.zeros(10, dtype=int)"
      ],
      "metadata": {
        "colab": {
          "base_uri": "https://localhost:8080/"
        },
        "id": "ocGsdRrNVZWT",
        "outputId": "c446c7a7-d98d-4ac7-a574-1ae10320695f"
      },
      "execution_count": 207,
      "outputs": [
        {
          "output_type": "execute_result",
          "data": {
            "text/plain": [
              "array([0, 0, 0, 0, 0, 0, 0, 0, 0, 0])"
            ]
          },
          "metadata": {},
          "execution_count": 207
        }
      ]
    },
    {
      "cell_type": "code",
      "source": [
        "# Create a 3x5 floating-point array filled with 1s\n",
        "np.ones((3, 5), dtype=float)"
      ],
      "metadata": {
        "colab": {
          "base_uri": "https://localhost:8080/"
        },
        "id": "YFzuwv8XVsIL",
        "outputId": "ee0f24a0-72ad-415c-be02-d685f8fc22d1"
      },
      "execution_count": 208,
      "outputs": [
        {
          "output_type": "execute_result",
          "data": {
            "text/plain": [
              "array([[1., 1., 1., 1., 1.],\n",
              "       [1., 1., 1., 1., 1.],\n",
              "       [1., 1., 1., 1., 1.]])"
            ]
          },
          "metadata": {},
          "execution_count": 208
        }
      ]
    },
    {
      "cell_type": "code",
      "source": [
        "# Create a 3x5 array filled with 3.14\n",
        "np.full((3, 5), 3.14)"
      ],
      "metadata": {
        "colab": {
          "base_uri": "https://localhost:8080/"
        },
        "id": "8oQ87p1tVwew",
        "outputId": "20a7e314-5c86-4f10-d842-6e50377d5d3d"
      },
      "execution_count": 209,
      "outputs": [
        {
          "output_type": "execute_result",
          "data": {
            "text/plain": [
              "array([[3.14, 3.14, 3.14, 3.14, 3.14],\n",
              "       [3.14, 3.14, 3.14, 3.14, 3.14],\n",
              "       [3.14, 3.14, 3.14, 3.14, 3.14]])"
            ]
          },
          "metadata": {},
          "execution_count": 209
        }
      ]
    },
    {
      "cell_type": "code",
      "source": [
        "# Create an array filled with a linear sequence\n",
        "# Starting at 0, ending at 20, stepping by 2\n",
        "# (this is similar to the built-in range() function)\n",
        "np.arange(0, 20, 2)"
      ],
      "metadata": {
        "colab": {
          "base_uri": "https://localhost:8080/"
        },
        "id": "QKUgmr_RYkcB",
        "outputId": "158ac241-7ff0-47a7-e950-2f647a2287c7"
      },
      "execution_count": 210,
      "outputs": [
        {
          "output_type": "execute_result",
          "data": {
            "text/plain": [
              "array([ 0,  2,  4,  6,  8, 10, 12, 14, 16, 18])"
            ]
          },
          "metadata": {},
          "execution_count": 210
        }
      ]
    },
    {
      "cell_type": "code",
      "source": [
        "# Create an array of five values evenly spaced between 0 and 1\n",
        "np.linspace(0, 1, 5)"
      ],
      "metadata": {
        "colab": {
          "base_uri": "https://localhost:8080/"
        },
        "id": "TlJwXsxyZD4P",
        "outputId": "c2a9bfc3-0023-4eb0-daac-8cca2068a1f4"
      },
      "execution_count": 211,
      "outputs": [
        {
          "output_type": "execute_result",
          "data": {
            "text/plain": [
              "array([0.  , 0.25, 0.5 , 0.75, 1.  ])"
            ]
          },
          "metadata": {},
          "execution_count": 211
        }
      ]
    },
    {
      "cell_type": "code",
      "source": [
        "# Create a 3x3 array of uniformly distributed\n",
        "# random values between 0 and 1\n",
        "np.random.random((3, 3))"
      ],
      "metadata": {
        "colab": {
          "base_uri": "https://localhost:8080/"
        },
        "id": "V9t9RTuMZGJu",
        "outputId": "90eaefd5-6a28-4bb7-f8a4-882a41d5b941"
      },
      "execution_count": 212,
      "outputs": [
        {
          "output_type": "execute_result",
          "data": {
            "text/plain": [
              "array([[0.95884927, 0.17809462, 0.61130112],\n",
              "       [0.7044003 , 0.89172417, 0.51511729],\n",
              "       [0.73705298, 0.17818634, 0.24485169]])"
            ]
          },
          "metadata": {},
          "execution_count": 212
        }
      ]
    },
    {
      "cell_type": "code",
      "source": [
        "# Create a 3x3 array of normally distributed random values\n",
        "# with mean 0 and standard deviation 1\n",
        "np.random.normal(0, 1, (3, 3))"
      ],
      "metadata": {
        "colab": {
          "base_uri": "https://localhost:8080/"
        },
        "id": "T3IGwKTYZSeM",
        "outputId": "c07ff095-274e-4255-bbb4-bc44d3b434f0"
      },
      "execution_count": 213,
      "outputs": [
        {
          "output_type": "execute_result",
          "data": {
            "text/plain": [
              "array([[-1.59773649,  0.21182799,  0.81131318],\n",
              "       [-0.64544226,  0.6196507 ,  0.79309108],\n",
              "       [-1.22073533, -0.83303769, -1.59226632]])"
            ]
          },
          "metadata": {},
          "execution_count": 213
        }
      ]
    },
    {
      "cell_type": "code",
      "source": [
        "# Create a 3x3 array of normally distributed random values\n",
        "# with mean 0 and standard deviation 1\n",
        "np.random.normal(0, 1, (3, 3))"
      ],
      "metadata": {
        "colab": {
          "base_uri": "https://localhost:8080/"
        },
        "id": "2jjcH-44ZYUA",
        "outputId": "3246f33b-7503-424b-b8fc-61df9e9ccaf4"
      },
      "execution_count": 214,
      "outputs": [
        {
          "output_type": "execute_result",
          "data": {
            "text/plain": [
              "array([[-1.36469538, -0.40030603, -0.71114687],\n",
              "       [-0.34223102,  0.4368197 , -0.58348496],\n",
              "       [-1.55200935, -0.11602464,  1.79654673]])"
            ]
          },
          "metadata": {},
          "execution_count": 214
        }
      ]
    },
    {
      "cell_type": "code",
      "source": [
        "# Create a 3x3 array of random integers in the interval [0, 10)\n",
        "np.random.randint(0, 10, (3, 3))"
      ],
      "metadata": {
        "colab": {
          "base_uri": "https://localhost:8080/"
        },
        "id": "BSkLxS6XZ4Qv",
        "outputId": "97e012ae-bdae-46ca-9c96-0455013fe393"
      },
      "execution_count": 215,
      "outputs": [
        {
          "output_type": "execute_result",
          "data": {
            "text/plain": [
              "array([[0, 6, 4],\n",
              "       [9, 1, 2],\n",
              "       [2, 7, 9]])"
            ]
          },
          "metadata": {},
          "execution_count": 215
        }
      ]
    },
    {
      "cell_type": "code",
      "source": [
        "# Create a 3x3 identity matrix\n",
        "np.eye(3)"
      ],
      "metadata": {
        "colab": {
          "base_uri": "https://localhost:8080/"
        },
        "id": "6UV2ToCyaTe6",
        "outputId": "0dee441d-f576-40d0-9bb1-88832d50b66f"
      },
      "execution_count": 216,
      "outputs": [
        {
          "output_type": "execute_result",
          "data": {
            "text/plain": [
              "array([[1., 0., 0.],\n",
              "       [0., 1., 0.],\n",
              "       [0., 0., 1.]])"
            ]
          },
          "metadata": {},
          "execution_count": 216
        }
      ]
    },
    {
      "cell_type": "code",
      "source": [
        "# Create an uninitialized array of three integers\n",
        "# The values will be whatever happens to already exist at that\n",
        "# memory location\n",
        "np.empty(3)"
      ],
      "metadata": {
        "colab": {
          "base_uri": "https://localhost:8080/"
        },
        "id": "ueQ-TrNVaXX_",
        "outputId": "c4c5c963-a627-48ea-9337-253e694b92e2"
      },
      "execution_count": 217,
      "outputs": [
        {
          "output_type": "execute_result",
          "data": {
            "text/plain": [
              "array([1., 1., 1.])"
            ]
          },
          "metadata": {},
          "execution_count": 217
        }
      ]
    },
    {
      "cell_type": "markdown",
      "source": [
        "## NumPy Standard Data Types\n",
        "NumPy arrays contain values of a single type, so it is important to have detailed\n",
        "knowledge of those types and their limitations. The datatype of the array can be assigned using a character string.\n",
        "\n",
        "*   bool_ - Boolean (True or False) stored as a byte\n",
        "*   int_ - Default integer type (same as C long; normally either int64 or int32) \n",
        "*   unit_ - Shorthand for unsigned integer\n",
        "*   float_ - Shorthand for float64\n",
        "*   complex_ - Shorthand for complex128\n",
        "\n",
        "## Basics of NumPy Arrays\n",
        "\n",
        "Data manipulation in Python often synonymous to wrangling data in NumPy.\n",
        "\n",
        "*   *Attributes of arrays*: Determining the size, shape, memory consumption, and data types of arrays\n",
        "*   *Indexing of arrays*: Getting and setting the value of individual array elements\n",
        "*   *Slicing of arrays*: Getting and setting smaller subarrays within a larger array\n",
        "*   *Reshaping of arrays*: Changing the shape of a given array\n",
        "*   *Joining and splitting of arrays*: Combining multiple arrays into one, and splitting one array into many\n",
        "\n",
        "### NumPy Array Attributes\n"
      ],
      "metadata": {
        "id": "TBi0uOSOadAG"
      }
    },
    {
      "cell_type": "code",
      "source": [
        "# create three random arrays\n",
        "np.random.seed(0) # seed for reproducibility\n",
        "x1 = np.random.randint(10, size=6) # One-dimensional array\n",
        "x2 = np.random.randint(10, size=(3, 4)) # Two-dimensional array\n",
        "x3 = np.random.randint(10, size=(3, 4, 5)) # Three-dimensional array"
      ],
      "metadata": {
        "id": "gGBDlr5ab452"
      },
      "execution_count": 218,
      "outputs": []
    },
    {
      "cell_type": "markdown",
      "source": [
        "*   ndim (number of dimensions)\n",
        "*   shape (size of each dimension)\n",
        "*   size (total size of the array)\n",
        "*   dtype (data type)\n",
        "*   itemsize (size (in bytes) of each array element)\n",
        "*   nbytes (total size (in bytes) of the array)"
      ],
      "metadata": {
        "id": "vVjaFcHSfAm8"
      }
    },
    {
      "cell_type": "code",
      "source": [
        "# access information about attributes\n",
        "print(\"x3 ndim: \", x3.ndim)\n",
        "print(\"x3 shape:\", x3.shape)\n",
        "print(\"x3 size: \", x3.size)\n",
        "print(\"dtype:\", x3.dtype)\n",
        "print(\"itemsize:\", x3.itemsize, \"bytes\")\n",
        "print(\"nbytes:\", x3.nbytes, \"bytes\") # nbytes is equal to itemsize times size"
      ],
      "metadata": {
        "colab": {
          "base_uri": "https://localhost:8080/"
        },
        "id": "ZoL9LkOcdaUZ",
        "outputId": "9f0654ba-8c23-48dd-ecb9-93669b46d98d"
      },
      "execution_count": 219,
      "outputs": [
        {
          "output_type": "stream",
          "name": "stdout",
          "text": [
            "x3 ndim:  3\n",
            "x3 shape: (3, 4, 5)\n",
            "x3 size:  60\n",
            "dtype: int64\n",
            "itemsize: 8 bytes\n",
            "nbytes: 480 bytes\n"
          ]
        }
      ]
    },
    {
      "cell_type": "markdown",
      "source": [
        "### Array Indexing\n",
        "\n",
        "NumPy indexing largely overlaps with Python's indexing: In a one-dimensional array, one can access the ith value(counting from zero) by specifying the desired index in square brackets, just as with Python lists."
      ],
      "metadata": {
        "id": "wjeioGO7g1n3"
      }
    },
    {
      "cell_type": "code",
      "source": [
        "x1"
      ],
      "metadata": {
        "colab": {
          "base_uri": "https://localhost:8080/"
        },
        "id": "dvU7JgmlHt50",
        "outputId": "686be317-803c-4200-c7bc-ec481fcaa62d"
      },
      "execution_count": 220,
      "outputs": [
        {
          "output_type": "execute_result",
          "data": {
            "text/plain": [
              "array([5, 0, 3, 3, 7, 9])"
            ]
          },
          "metadata": {},
          "execution_count": 220
        }
      ]
    },
    {
      "cell_type": "code",
      "source": [
        "x1[0]"
      ],
      "metadata": {
        "colab": {
          "base_uri": "https://localhost:8080/"
        },
        "id": "cbe1xfPbHxUy",
        "outputId": "164640cd-f116-4bd2-b124-58215641c8be"
      },
      "execution_count": 221,
      "outputs": [
        {
          "output_type": "execute_result",
          "data": {
            "text/plain": [
              "5"
            ]
          },
          "metadata": {},
          "execution_count": 221
        }
      ]
    },
    {
      "cell_type": "code",
      "source": [
        "x1[4]"
      ],
      "metadata": {
        "colab": {
          "base_uri": "https://localhost:8080/"
        },
        "id": "MVCRrIItH30P",
        "outputId": "89694ae9-79ad-49b9-9648-e5d3916cdbdf"
      },
      "execution_count": 222,
      "outputs": [
        {
          "output_type": "execute_result",
          "data": {
            "text/plain": [
              "7"
            ]
          },
          "metadata": {},
          "execution_count": 222
        }
      ]
    },
    {
      "cell_type": "markdown",
      "source": [
        "To index from the end of the array, one can use negative indices"
      ],
      "metadata": {
        "id": "HAPcFWF4ID88"
      }
    },
    {
      "cell_type": "code",
      "source": [
        "x1[-1]"
      ],
      "metadata": {
        "colab": {
          "base_uri": "https://localhost:8080/"
        },
        "id": "y2YHU2jCIGqk",
        "outputId": "54281526-aad4-4f91-e43e-f78a53e79b5e"
      },
      "execution_count": 223,
      "outputs": [
        {
          "output_type": "execute_result",
          "data": {
            "text/plain": [
              "9"
            ]
          },
          "metadata": {},
          "execution_count": 223
        }
      ]
    },
    {
      "cell_type": "code",
      "source": [
        "x1[-2]"
      ],
      "metadata": {
        "colab": {
          "base_uri": "https://localhost:8080/"
        },
        "id": "xPcJatQ-IKXY",
        "outputId": "c883e0e1-071c-453a-dbc8-d77d8e8b6224"
      },
      "execution_count": 224,
      "outputs": [
        {
          "output_type": "execute_result",
          "data": {
            "text/plain": [
              "7"
            ]
          },
          "metadata": {},
          "execution_count": 224
        }
      ]
    },
    {
      "cell_type": "markdown",
      "source": [
        "In a multidimensional array, one accesses items using a comma-separated tuple of\n",
        "indices."
      ],
      "metadata": {
        "id": "NFYAL23OIaaX"
      }
    },
    {
      "cell_type": "code",
      "source": [
        "x2"
      ],
      "metadata": {
        "colab": {
          "base_uri": "https://localhost:8080/"
        },
        "id": "T0EngT10Ifyh",
        "outputId": "073d0124-b16c-49ab-d73f-252c62e66713"
      },
      "execution_count": 225,
      "outputs": [
        {
          "output_type": "execute_result",
          "data": {
            "text/plain": [
              "array([[3, 5, 2, 4],\n",
              "       [7, 6, 8, 8],\n",
              "       [1, 6, 7, 7]])"
            ]
          },
          "metadata": {},
          "execution_count": 225
        }
      ]
    },
    {
      "cell_type": "code",
      "source": [
        "x2[0,0]"
      ],
      "metadata": {
        "colab": {
          "base_uri": "https://localhost:8080/"
        },
        "id": "ikIppFseIhMn",
        "outputId": "40631ec8-457a-4053-a801-99cc657aa9c7"
      },
      "execution_count": 226,
      "outputs": [
        {
          "output_type": "execute_result",
          "data": {
            "text/plain": [
              "3"
            ]
          },
          "metadata": {},
          "execution_count": 226
        }
      ]
    },
    {
      "cell_type": "code",
      "source": [
        "x2[2,0]"
      ],
      "metadata": {
        "colab": {
          "base_uri": "https://localhost:8080/"
        },
        "id": "TqTTFhOQImZE",
        "outputId": "39818a00-36fa-4b18-8953-a212f2f75e9f"
      },
      "execution_count": 227,
      "outputs": [
        {
          "output_type": "execute_result",
          "data": {
            "text/plain": [
              "1"
            ]
          },
          "metadata": {},
          "execution_count": 227
        }
      ]
    },
    {
      "cell_type": "code",
      "source": [
        "x2[2,-1]"
      ],
      "metadata": {
        "colab": {
          "base_uri": "https://localhost:8080/"
        },
        "id": "vY457pMgIsTY",
        "outputId": "d50fe3ae-0e67-43d4-83a3-0162c15f6966"
      },
      "execution_count": 228,
      "outputs": [
        {
          "output_type": "execute_result",
          "data": {
            "text/plain": [
              "7"
            ]
          },
          "metadata": {},
          "execution_count": 228
        }
      ]
    },
    {
      "cell_type": "markdown",
      "source": [
        "Indexing can also be used to modify values at the indexed position."
      ],
      "metadata": {
        "id": "6_ijHYJ9IxXC"
      }
    },
    {
      "cell_type": "code",
      "source": [
        "x2[0,0]=12\n",
        "x2"
      ],
      "metadata": {
        "colab": {
          "base_uri": "https://localhost:8080/"
        },
        "id": "8xZRS6iyI6E3",
        "outputId": "041ec2da-8db6-496f-e7f3-2d995e9fefcb"
      },
      "execution_count": 229,
      "outputs": [
        {
          "output_type": "execute_result",
          "data": {
            "text/plain": [
              "array([[12,  5,  2,  4],\n",
              "       [ 7,  6,  8,  8],\n",
              "       [ 1,  6,  7,  7]])"
            ]
          },
          "metadata": {},
          "execution_count": 229
        }
      ]
    },
    {
      "cell_type": "markdown",
      "source": [
        "CAVEAT: Unlike Python lists, NumPy arrays have a fixed type. This means,\n",
        "for example, that if you attempt to insert a floating-point value to an integer array, the value will be silently truncated. "
      ],
      "metadata": {
        "id": "qM1luI8fJKxS"
      }
    },
    {
      "cell_type": "code",
      "source": [
        "x1[0] = 3.14159 # this will be truncated to 3 (but not rounded)!\n",
        "x1"
      ],
      "metadata": {
        "colab": {
          "base_uri": "https://localhost:8080/"
        },
        "id": "Y_MksLklJQrC",
        "outputId": "ef3b93cf-6729-4513-b03e-94173d8e7e1c"
      },
      "execution_count": 230,
      "outputs": [
        {
          "output_type": "execute_result",
          "data": {
            "text/plain": [
              "array([3, 0, 3, 3, 7, 9])"
            ]
          },
          "metadata": {},
          "execution_count": 230
        }
      ]
    },
    {
      "cell_type": "markdown",
      "source": [
        "### Array Slicing: Accessing Subarrays\n",
        "\n",
        "Slicing provides access to subarrays with the slice nottion, marked by the colon (:) character.\n",
        "\n",
        "x[start:stop:step]\n",
        "\n",
        "If any of these are unspecified, they default to the values start=0, stop=size of dimension, step=1."
      ],
      "metadata": {
        "id": "LQIIO6srJbYJ"
      }
    },
    {
      "cell_type": "code",
      "source": [
        "x = np.arange(10)\n",
        "x"
      ],
      "metadata": {
        "colab": {
          "base_uri": "https://localhost:8080/"
        },
        "id": "W4JhOBlvKE-M",
        "outputId": "2c9d92c5-4766-433c-b12b-f321ef0d14c8"
      },
      "execution_count": 231,
      "outputs": [
        {
          "output_type": "execute_result",
          "data": {
            "text/plain": [
              "array([0, 1, 2, 3, 4, 5, 6, 7, 8, 9])"
            ]
          },
          "metadata": {},
          "execution_count": 231
        }
      ]
    },
    {
      "cell_type": "code",
      "source": [
        "x[:5] # first five elements"
      ],
      "metadata": {
        "colab": {
          "base_uri": "https://localhost:8080/"
        },
        "id": "LvfOSg0ZKMCB",
        "outputId": "eeb52ed5-22bf-46e3-9181-6a8a8dbd1b3b"
      },
      "execution_count": 232,
      "outputs": [
        {
          "output_type": "execute_result",
          "data": {
            "text/plain": [
              "array([0, 1, 2, 3, 4])"
            ]
          },
          "metadata": {},
          "execution_count": 232
        }
      ]
    },
    {
      "cell_type": "code",
      "source": [
        "x[5:] # elements after index 5"
      ],
      "metadata": {
        "colab": {
          "base_uri": "https://localhost:8080/"
        },
        "id": "Err8HPzIKPTY",
        "outputId": "36397a7a-4a43-48ac-eb86-c94949d5a453"
      },
      "execution_count": 233,
      "outputs": [
        {
          "output_type": "execute_result",
          "data": {
            "text/plain": [
              "array([5, 6, 7, 8, 9])"
            ]
          },
          "metadata": {},
          "execution_count": 233
        }
      ]
    },
    {
      "cell_type": "code",
      "source": [
        "x[5:] # elements after index 5"
      ],
      "metadata": {
        "colab": {
          "base_uri": "https://localhost:8080/"
        },
        "id": "3O4uCr_QKSh7",
        "outputId": "a8532503-3191-4b0b-beb5-c643d4868250"
      },
      "execution_count": 234,
      "outputs": [
        {
          "output_type": "execute_result",
          "data": {
            "text/plain": [
              "array([5, 6, 7, 8, 9])"
            ]
          },
          "metadata": {},
          "execution_count": 234
        }
      ]
    },
    {
      "cell_type": "code",
      "source": [
        "x[4:7] # middle subarray"
      ],
      "metadata": {
        "colab": {
          "base_uri": "https://localhost:8080/"
        },
        "id": "Oo9Akbc3K_tL",
        "outputId": "0c12ac61-deb4-4e6d-ce26-f215d2dfaa88"
      },
      "execution_count": 235,
      "outputs": [
        {
          "output_type": "execute_result",
          "data": {
            "text/plain": [
              "array([4, 5, 6])"
            ]
          },
          "metadata": {},
          "execution_count": 235
        }
      ]
    },
    {
      "cell_type": "code",
      "source": [
        "x[::2] # every other element"
      ],
      "metadata": {
        "colab": {
          "base_uri": "https://localhost:8080/"
        },
        "id": "MQ-whK1CLDSg",
        "outputId": "69ac4ae8-19a0-4db7-f314-274dff5d4010"
      },
      "execution_count": 236,
      "outputs": [
        {
          "output_type": "execute_result",
          "data": {
            "text/plain": [
              "array([0, 2, 4, 6, 8])"
            ]
          },
          "metadata": {},
          "execution_count": 236
        }
      ]
    },
    {
      "cell_type": "code",
      "source": [
        "x[1::2] # every other element, starting at index 1"
      ],
      "metadata": {
        "colab": {
          "base_uri": "https://localhost:8080/"
        },
        "id": "OwaeVTClLHHo",
        "outputId": "1695fac4-4d06-4f51-8861-a65053a23aaa"
      },
      "execution_count": 237,
      "outputs": [
        {
          "output_type": "execute_result",
          "data": {
            "text/plain": [
              "array([1, 3, 5, 7, 9])"
            ]
          },
          "metadata": {},
          "execution_count": 237
        }
      ]
    },
    {
      "cell_type": "markdown",
      "source": [
        "When the step value is negative, the\n",
        "defaults for start and stop are swapped. This becomes a convenient way to reverse\n",
        "an array."
      ],
      "metadata": {
        "id": "drJOECP2LT_w"
      }
    },
    {
      "cell_type": "code",
      "source": [
        "x[::-1] # all elements, reversed"
      ],
      "metadata": {
        "colab": {
          "base_uri": "https://localhost:8080/"
        },
        "id": "Xb8N8eByLaUP",
        "outputId": "6f7bfe87-5f85-4c33-d569-4ffeebcc8e91"
      },
      "execution_count": 238,
      "outputs": [
        {
          "output_type": "execute_result",
          "data": {
            "text/plain": [
              "array([9, 8, 7, 6, 5, 4, 3, 2, 1, 0])"
            ]
          },
          "metadata": {},
          "execution_count": 238
        }
      ]
    },
    {
      "cell_type": "code",
      "source": [
        "x[5::-2] # reversed every other from index 5"
      ],
      "metadata": {
        "colab": {
          "base_uri": "https://localhost:8080/"
        },
        "id": "ydLW-jVdLew7",
        "outputId": "a6c6a2a0-bbda-4e2f-a9db-b8896ea9ab3b"
      },
      "execution_count": 239,
      "outputs": [
        {
          "output_type": "execute_result",
          "data": {
            "text/plain": [
              "array([5, 3, 1])"
            ]
          },
          "metadata": {},
          "execution_count": 239
        }
      ]
    },
    {
      "cell_type": "markdown",
      "source": [
        "Multidimensional slices work in the same way, with multiple slices separated by commas."
      ],
      "metadata": {
        "id": "jYNMe6vVMpQv"
      }
    },
    {
      "cell_type": "code",
      "source": [
        "x2"
      ],
      "metadata": {
        "colab": {
          "base_uri": "https://localhost:8080/"
        },
        "id": "vj5hlQmzMrQ5",
        "outputId": "3a7fcbe1-4bb3-4ac0-f90a-e76e624317bb"
      },
      "execution_count": 240,
      "outputs": [
        {
          "output_type": "execute_result",
          "data": {
            "text/plain": [
              "array([[12,  5,  2,  4],\n",
              "       [ 7,  6,  8,  8],\n",
              "       [ 1,  6,  7,  7]])"
            ]
          },
          "metadata": {},
          "execution_count": 240
        }
      ]
    },
    {
      "cell_type": "code",
      "source": [
        "x2[:2, :3] # two rows: until excluding row 2 counting from 0\n",
        "# three columns: until excluding column 3 counting from 0"
      ],
      "metadata": {
        "colab": {
          "base_uri": "https://localhost:8080/"
        },
        "id": "OOI8gJRpMsCR",
        "outputId": "6df5232a-bd67-4e66-ffef-a24d8e558f69"
      },
      "execution_count": 241,
      "outputs": [
        {
          "output_type": "execute_result",
          "data": {
            "text/plain": [
              "array([[12,  5,  2],\n",
              "       [ 7,  6,  8]])"
            ]
          },
          "metadata": {},
          "execution_count": 241
        }
      ]
    },
    {
      "cell_type": "code",
      "source": [
        "x2[:3, ::2] # all rows, every other column"
      ],
      "metadata": {
        "colab": {
          "base_uri": "https://localhost:8080/"
        },
        "id": "Ye9PK0gKMxB0",
        "outputId": "6eec8b0f-f5dc-4eb5-a7d9-6cae6320e517"
      },
      "execution_count": 242,
      "outputs": [
        {
          "output_type": "execute_result",
          "data": {
            "text/plain": [
              "array([[12,  2],\n",
              "       [ 7,  8],\n",
              "       [ 1,  7]])"
            ]
          },
          "metadata": {},
          "execution_count": 242
        }
      ]
    },
    {
      "cell_type": "code",
      "source": [
        "x2[::-1, ::-1] # subarray dimensions can even be reversed together"
      ],
      "metadata": {
        "colab": {
          "base_uri": "https://localhost:8080/"
        },
        "id": "XuozS-udNRQQ",
        "outputId": "36d3a5c1-3273-4633-96a9-37b290d83c96"
      },
      "execution_count": 243,
      "outputs": [
        {
          "output_type": "execute_result",
          "data": {
            "text/plain": [
              "array([[ 7,  7,  6,  1],\n",
              "       [ 8,  8,  6,  7],\n",
              "       [ 4,  2,  5, 12]])"
            ]
          },
          "metadata": {},
          "execution_count": 243
        }
      ]
    },
    {
      "cell_type": "code",
      "source": [
        "print(x2[:, 0]) # whole first column of x2"
      ],
      "metadata": {
        "colab": {
          "base_uri": "https://localhost:8080/"
        },
        "id": "f3-K2ObPNfNv",
        "outputId": "05409433-65bb-4925-f4f8-67eaf2f355fc"
      },
      "execution_count": 244,
      "outputs": [
        {
          "output_type": "stream",
          "name": "stdout",
          "text": [
            "[12  7  1]\n"
          ]
        }
      ]
    },
    {
      "cell_type": "code",
      "source": [
        "print(x2[0, :]) # whole first row of x2"
      ],
      "metadata": {
        "colab": {
          "base_uri": "https://localhost:8080/"
        },
        "id": "wBNGImM_NmI_",
        "outputId": "1c0a52c2-31dd-4752-867f-aca962789c99"
      },
      "execution_count": 245,
      "outputs": [
        {
          "output_type": "stream",
          "name": "stdout",
          "text": [
            "[12  5  2  4]\n"
          ]
        }
      ]
    },
    {
      "cell_type": "code",
      "source": [
        "print(x2[0]) # equivalent to x2[0, :]"
      ],
      "metadata": {
        "colab": {
          "base_uri": "https://localhost:8080/"
        },
        "id": "xM0wKDjMNtqY",
        "outputId": "b99f0abe-d7c3-4a4a-8d76-ca499ac49b8c"
      },
      "execution_count": 246,
      "outputs": [
        {
          "output_type": "stream",
          "name": "stdout",
          "text": [
            "[12  5  2  4]\n"
          ]
        }
      ]
    },
    {
      "cell_type": "markdown",
      "source": [
        "Array slices return views rather than copies of the array data. \n",
        "\n",
        "This default behavior means that when we work with large datasets, we can access and process pieces of these datasets without the need to copy the underlying data buffer."
      ],
      "metadata": {
        "id": "92CIxEuWN-gK"
      }
    },
    {
      "cell_type": "code",
      "source": [
        "x2"
      ],
      "metadata": {
        "colab": {
          "base_uri": "https://localhost:8080/"
        },
        "id": "ruoNkNFNOK02",
        "outputId": "adc685c9-390e-4dcd-ac6b-d2bfd30eaa4d"
      },
      "execution_count": 247,
      "outputs": [
        {
          "output_type": "execute_result",
          "data": {
            "text/plain": [
              "array([[12,  5,  2,  4],\n",
              "       [ 7,  6,  8,  8],\n",
              "       [ 1,  6,  7,  7]])"
            ]
          },
          "metadata": {},
          "execution_count": 247
        }
      ]
    },
    {
      "cell_type": "code",
      "source": [
        "x2_sub = x2[:2, :2] # extract a 2×2 subarray from x2\n",
        "print(x2_sub)"
      ],
      "metadata": {
        "colab": {
          "base_uri": "https://localhost:8080/"
        },
        "id": "LlvqkeyROQoO",
        "outputId": "20b2e7d8-14d5-4480-b706-9286bfbca511"
      },
      "execution_count": 248,
      "outputs": [
        {
          "output_type": "stream",
          "name": "stdout",
          "text": [
            "[[12  5]\n",
            " [ 7  6]]\n"
          ]
        }
      ]
    },
    {
      "cell_type": "code",
      "source": [
        "x2_sub[0, 0] = 99 # modify subarray\n",
        "print(x2_sub)"
      ],
      "metadata": {
        "colab": {
          "base_uri": "https://localhost:8080/"
        },
        "id": "yie1bTXaOiLt",
        "outputId": "89b4020f-f1e1-4085-e57a-45df082c1058"
      },
      "execution_count": 249,
      "outputs": [
        {
          "output_type": "stream",
          "name": "stdout",
          "text": [
            "[[99  5]\n",
            " [ 7  6]]\n"
          ]
        }
      ]
    },
    {
      "cell_type": "code",
      "source": [
        "print(x2) # same modification in x2"
      ],
      "metadata": {
        "colab": {
          "base_uri": "https://localhost:8080/"
        },
        "id": "i38JAwMyOoLE",
        "outputId": "89a5849f-5149-411a-f756-e54b205ac3c5"
      },
      "execution_count": 250,
      "outputs": [
        {
          "output_type": "stream",
          "name": "stdout",
          "text": [
            "[[99  5  2  4]\n",
            " [ 7  6  8  8]\n",
            " [ 1  6  7  7]]\n"
          ]
        }
      ]
    },
    {
      "cell_type": "markdown",
      "source": [
        "To explicitely copy the data within an array or subarray, copy() method can be used. Modifying the copied array will not affect the parent array."
      ],
      "metadata": {
        "id": "P300dqPNPFQk"
      }
    },
    {
      "cell_type": "code",
      "source": [
        "x2_sub_copy = x2[:2, :2].copy()\n",
        "print(x2_sub_copy)"
      ],
      "metadata": {
        "colab": {
          "base_uri": "https://localhost:8080/"
        },
        "id": "lL5jVrmQPQaG",
        "outputId": "dd23aded-9452-41d1-f817-7080dfd68282"
      },
      "execution_count": 251,
      "outputs": [
        {
          "output_type": "stream",
          "name": "stdout",
          "text": [
            "[[99  5]\n",
            " [ 7  6]]\n"
          ]
        }
      ]
    },
    {
      "cell_type": "code",
      "source": [
        "x2_sub_copy[0, 0] = 42\n",
        "print(x2_sub_copy)"
      ],
      "metadata": {
        "colab": {
          "base_uri": "https://localhost:8080/"
        },
        "id": "dCMSFbhIPUt7",
        "outputId": "237d4bb3-e32e-401a-8208-b1f45c7cc1da"
      },
      "execution_count": 252,
      "outputs": [
        {
          "output_type": "stream",
          "name": "stdout",
          "text": [
            "[[42  5]\n",
            " [ 7  6]]\n"
          ]
        }
      ]
    },
    {
      "cell_type": "code",
      "source": [
        "print(x2)"
      ],
      "metadata": {
        "colab": {
          "base_uri": "https://localhost:8080/"
        },
        "id": "wnEMvoDtPWGa",
        "outputId": "68919ada-31cd-44db-8691-40733db69b60"
      },
      "execution_count": 253,
      "outputs": [
        {
          "output_type": "stream",
          "name": "stdout",
          "text": [
            "[[99  5  2  4]\n",
            " [ 7  6  8  8]\n",
            " [ 1  6  7  7]]\n"
          ]
        }
      ]
    },
    {
      "cell_type": "markdown",
      "source": [
        "### Array Reshaping\n",
        "\n",
        "The most flexible way of\n",
        "reshaping data is with the reshape() method.\n",
        "\n",
        "Another common reshaping pattern is the conversion of a one-dimensional array\n",
        "into a two-dimensional row or column matrix. This can be done by making use of the newaxis keyword within a slice operation."
      ],
      "metadata": {
        "id": "n8JiIhH2Pq1B"
      }
    },
    {
      "cell_type": "code",
      "source": [
        "# put the numbers 1 through 9 in a 3×3 grid\n",
        "grid = np.arange(1, 10).reshape((3, 3))\n",
        "print(grid)\n",
        "# note: sizes of initial array must match size of reshaped array"
      ],
      "metadata": {
        "colab": {
          "base_uri": "https://localhost:8080/"
        },
        "id": "NDD9BwydQWtT",
        "outputId": "6f36e51d-58a6-4286-ed27-3250b3ab9d3d"
      },
      "execution_count": 254,
      "outputs": [
        {
          "output_type": "stream",
          "name": "stdout",
          "text": [
            "[[1 2 3]\n",
            " [4 5 6]\n",
            " [7 8 9]]\n"
          ]
        }
      ]
    },
    {
      "cell_type": "code",
      "source": [
        "x = np.array([1, 2, 3])\n",
        "\n",
        "# row vector via reshape\n",
        "x.reshape((1, 3))"
      ],
      "metadata": {
        "colab": {
          "base_uri": "https://localhost:8080/"
        },
        "id": "MHe5o9iBQ-dp",
        "outputId": "e6d1fa13-63ff-4579-bb7f-34349a2cbc6e"
      },
      "execution_count": 255,
      "outputs": [
        {
          "output_type": "execute_result",
          "data": {
            "text/plain": [
              "array([[1, 2, 3]])"
            ]
          },
          "metadata": {},
          "execution_count": 255
        }
      ]
    },
    {
      "cell_type": "code",
      "source": [
        "# row vector via newaxis\n",
        "x[np.newaxis, :]"
      ],
      "metadata": {
        "colab": {
          "base_uri": "https://localhost:8080/"
        },
        "id": "Q4oCo13ERGUw",
        "outputId": "44776d86-f286-428b-cc6c-e310ddd8fb4c"
      },
      "execution_count": 256,
      "outputs": [
        {
          "output_type": "execute_result",
          "data": {
            "text/plain": [
              "array([[1, 2, 3]])"
            ]
          },
          "metadata": {},
          "execution_count": 256
        }
      ]
    },
    {
      "cell_type": "code",
      "source": [
        "# column vector via reshape\n",
        "x.reshape((3, 1))"
      ],
      "metadata": {
        "colab": {
          "base_uri": "https://localhost:8080/"
        },
        "id": "-2W-pEDSRIa1",
        "outputId": "91ec729c-4a94-4e52-93a4-18d20f6969ce"
      },
      "execution_count": 257,
      "outputs": [
        {
          "output_type": "execute_result",
          "data": {
            "text/plain": [
              "array([[1],\n",
              "       [2],\n",
              "       [3]])"
            ]
          },
          "metadata": {},
          "execution_count": 257
        }
      ]
    },
    {
      "cell_type": "markdown",
      "source": [
        "### Array Concatenation and Splitting\n",
        "\n",
        "Concatenation, or joining of two arrays in NumPy, is primarily accomplished\n",
        "through the routines np.concatenate, np.vstack, and np.hstack."
      ],
      "metadata": {
        "id": "iraT51kgR7a0"
      }
    },
    {
      "cell_type": "code",
      "source": [
        "# np.concatenate takes a tuple or list of arrays as its first argument\n",
        "\n",
        "x = np.array([1, 2, 3])\n",
        "y = np.array([3, 2, 1])\n",
        "np.concatenate([x, y])"
      ],
      "metadata": {
        "colab": {
          "base_uri": "https://localhost:8080/"
        },
        "id": "lUG7nQtOSJCk",
        "outputId": "d1868f96-8cfb-41a5-a3b4-620243369d8d"
      },
      "execution_count": 258,
      "outputs": [
        {
          "output_type": "execute_result",
          "data": {
            "text/plain": [
              "array([1, 2, 3, 3, 2, 1])"
            ]
          },
          "metadata": {},
          "execution_count": 258
        }
      ]
    },
    {
      "cell_type": "code",
      "source": [
        "# concatenate more than two arrays at once\n",
        "z = [99, 99, 99]\n",
        "print(np.concatenate([x, y, z]))"
      ],
      "metadata": {
        "colab": {
          "base_uri": "https://localhost:8080/"
        },
        "id": "L-sVnfH-SQOc",
        "outputId": "84e074aa-f141-4f82-8489-0adfccd50e36"
      },
      "execution_count": 259,
      "outputs": [
        {
          "output_type": "stream",
          "name": "stdout",
          "text": [
            "[ 1  2  3  3  2  1 99 99 99]\n"
          ]
        }
      ]
    },
    {
      "cell_type": "markdown",
      "source": [
        "np concatenate \"stacks\" NumPy arrays vertically or horizontally."
      ],
      "metadata": {
        "id": "tKSt9CzkWP_Z"
      }
    },
    {
      "cell_type": "code",
      "source": [
        "# np concatenate on two-dimensional arrays\n",
        "grid = np.array([[1, 2, 3],\n",
        "                 [4, 5, 6]])"
      ],
      "metadata": {
        "id": "jWPItFIRSaNt"
      },
      "execution_count": 260,
      "outputs": []
    },
    {
      "cell_type": "code",
      "source": [
        "# concatenate along the first axis: axis=0 (default)\n",
        "# axis=0 is the direction running vertically down the rows\n",
        "np.concatenate([grid, grid])"
      ],
      "metadata": {
        "colab": {
          "base_uri": "https://localhost:8080/"
        },
        "id": "h_a5nHtiSa4I",
        "outputId": "925d8c22-7f33-43e5-c6a2-a7aeab5a2ab4"
      },
      "execution_count": 261,
      "outputs": [
        {
          "output_type": "execute_result",
          "data": {
            "text/plain": [
              "array([[1, 2, 3],\n",
              "       [4, 5, 6],\n",
              "       [1, 2, 3],\n",
              "       [4, 5, 6]])"
            ]
          },
          "metadata": {},
          "execution_count": 261
        }
      ]
    },
    {
      "cell_type": "code",
      "source": [
        "# concatenate along the second axis (zero-indexed): axis=1\n",
        "#  axis=1 is the direction running horizontally across the columns\n",
        "np.concatenate([grid, grid], axis=1)"
      ],
      "metadata": {
        "colab": {
          "base_uri": "https://localhost:8080/"
        },
        "id": "YSkhL28uSi0d",
        "outputId": "67063123-5eff-4a56-bc79-71f6ae018d54"
      },
      "execution_count": 262,
      "outputs": [
        {
          "output_type": "execute_result",
          "data": {
            "text/plain": [
              "array([[1, 2, 3, 1, 2, 3],\n",
              "       [4, 5, 6, 4, 5, 6]])"
            ]
          },
          "metadata": {},
          "execution_count": 262
        }
      ]
    },
    {
      "cell_type": "markdown",
      "source": [
        "For working with arrays of mixed dimensions, it can be clearer to use the np.vstack (vertical stack) and np.hstack (horizontal stack) functions."
      ],
      "metadata": {
        "id": "W3SGHj2CWz6L"
      }
    },
    {
      "cell_type": "code",
      "source": [
        "x = np.array([1, 2, 3])\n",
        "grid = np.array([[9, 8, 7],\n",
        "[6, 5, 4]])\n",
        "# vertically stack the arrays\n",
        "np.vstack([x, grid])"
      ],
      "metadata": {
        "colab": {
          "base_uri": "https://localhost:8080/"
        },
        "id": "NdZhzBwoW3xV",
        "outputId": "f949aaff-0fa1-498c-d824-af61c064885f"
      },
      "execution_count": 263,
      "outputs": [
        {
          "output_type": "execute_result",
          "data": {
            "text/plain": [
              "array([[1, 2, 3],\n",
              "       [9, 8, 7],\n",
              "       [6, 5, 4]])"
            ]
          },
          "metadata": {},
          "execution_count": 263
        }
      ]
    },
    {
      "cell_type": "code",
      "source": [
        "# horizontally stack the arrays\n",
        "y = np.array([[99],\n",
        "[99]])\n",
        "np.hstack([grid, y])"
      ],
      "metadata": {
        "colab": {
          "base_uri": "https://localhost:8080/"
        },
        "id": "AXQLa1fcXuCJ",
        "outputId": "8cd9ca92-cdfb-4eac-9299-84951ec98175"
      },
      "execution_count": 264,
      "outputs": [
        {
          "output_type": "execute_result",
          "data": {
            "text/plain": [
              "array([[ 9,  8,  7, 99],\n",
              "       [ 6,  5,  4, 99]])"
            ]
          },
          "metadata": {},
          "execution_count": 264
        }
      ]
    },
    {
      "cell_type": "markdown",
      "source": [
        "np.dstack will stack arrays along the third axis.\n",
        "\n",
        "The opposite of concatenation is splitting, which is implemented by the functions np.split, np.hsplit, and np.vsplit. For each of these, a list of indices giving the split points is passed."
      ],
      "metadata": {
        "id": "IoidumzIX3qp"
      }
    },
    {
      "cell_type": "code",
      "source": [
        "x = [1, 2, 3, 99, 99, 3, 2, 1]\n",
        "# N split points lead to N + 1 subarrays\n",
        "x1, x2, x3 = np.split(x, [3, 5])\n",
        "print(x1, x2, x3)"
      ],
      "metadata": {
        "colab": {
          "base_uri": "https://localhost:8080/"
        },
        "id": "JSEyaalnYFf2",
        "outputId": "07bcf1ba-a3bf-4113-880a-8a4562422f44"
      },
      "execution_count": 265,
      "outputs": [
        {
          "output_type": "stream",
          "name": "stdout",
          "text": [
            "[1 2 3] [99 99] [3 2 1]\n"
          ]
        }
      ]
    },
    {
      "cell_type": "code",
      "source": [
        "grid = np.arange(16).reshape((4, 4))\n",
        "grid"
      ],
      "metadata": {
        "colab": {
          "base_uri": "https://localhost:8080/"
        },
        "id": "2bsrzGf0YRWR",
        "outputId": "8306d460-3e27-49d3-b32f-0252fbe3cde0"
      },
      "execution_count": 266,
      "outputs": [
        {
          "output_type": "execute_result",
          "data": {
            "text/plain": [
              "array([[ 0,  1,  2,  3],\n",
              "       [ 4,  5,  6,  7],\n",
              "       [ 8,  9, 10, 11],\n",
              "       [12, 13, 14, 15]])"
            ]
          },
          "metadata": {},
          "execution_count": 266
        }
      ]
    },
    {
      "cell_type": "code",
      "source": [
        "# vertical split\n",
        "upper, lower = np.vsplit(grid, [2])\n",
        "print(upper)\n",
        "print(lower)"
      ],
      "metadata": {
        "colab": {
          "base_uri": "https://localhost:8080/"
        },
        "id": "MmNkChVIYVvs",
        "outputId": "dfe02642-87a9-4f77-9b58-0015995473f2"
      },
      "execution_count": 267,
      "outputs": [
        {
          "output_type": "stream",
          "name": "stdout",
          "text": [
            "[[0 1 2 3]\n",
            " [4 5 6 7]]\n",
            "[[ 8  9 10 11]\n",
            " [12 13 14 15]]\n"
          ]
        }
      ]
    },
    {
      "cell_type": "code",
      "source": [
        "# horizontal split\n",
        "left, right = np.hsplit(grid, [2])\n",
        "print(left)\n",
        "print(right)"
      ],
      "metadata": {
        "colab": {
          "base_uri": "https://localhost:8080/"
        },
        "id": "c3P7_Nj_Y0BN",
        "outputId": "a388dafb-50fa-4e4a-db3e-8c151574257a"
      },
      "execution_count": 268,
      "outputs": [
        {
          "output_type": "stream",
          "name": "stdout",
          "text": [
            "[[ 0  1]\n",
            " [ 4  5]\n",
            " [ 8  9]\n",
            " [12 13]]\n",
            "[[ 2  3]\n",
            " [ 6  7]\n",
            " [10 11]\n",
            " [14 15]]\n"
          ]
        }
      ]
    },
    {
      "cell_type": "markdown",
      "source": [
        "np.dsplit will split arrays along the third axis.\n",
        "\n",
        "## Computation on NumPy Arrays\n",
        "\n",
        "Computation on NumPy arrays can be very fast, or it can be very slow. The key to making it fast is to use **vectorised operations**, generally implemented through NumPy’s universal functions (ufuncs). Vectorised functions push the loop into the compiled layer that underlies NumPy. Thereby, when performing an operation on the array, it will be applied to each element.\n",
        "\n",
        "The reason for this is that Python is very slow when computing loops. This is in part due to the dynamic, interpreted nature of the language: the fact that types are flexible, so that sequences of operations cannot be compiled down to efficient machine code.\n",
        "\n"
      ],
      "metadata": {
        "id": "LqFhGS0tZArR"
      }
    },
    {
      "cell_type": "code",
      "source": [
        "np.arange(5) / np.arange(1, 6)"
      ],
      "metadata": {
        "colab": {
          "base_uri": "https://localhost:8080/"
        },
        "id": "wXUIzJ-yhtWR",
        "outputId": "58643fee-9175-4943-9dba-ac121a510262"
      },
      "execution_count": 269,
      "outputs": [
        {
          "output_type": "execute_result",
          "data": {
            "text/plain": [
              "array([0.        , 0.5       , 0.66666667, 0.75      , 0.8       ])"
            ]
          },
          "metadata": {},
          "execution_count": 269
        }
      ]
    },
    {
      "cell_type": "markdown",
      "source": [
        "Unary ufuncs operate on a single input, and binary\n",
        "ufuncs operate on two inputs."
      ],
      "metadata": {
        "id": "uQzrpugJh8Q-"
      }
    },
    {
      "cell_type": "code",
      "source": [
        "# standard addition, subtraction, multiplication, and division \n",
        "# using operators\n",
        "x = np.arange(4)\n",
        "print(\"x =\", x)\n",
        "print(\"x + 5 =\", x + 5)\n",
        "print(\"x - 5 =\", x - 5)\n",
        "print(\"x * 2 =\", x * 2)\n",
        "print(\"x / 2 =\", x / 2)\n",
        "print(\"x // 2 =\", x // 2) # floor division"
      ],
      "metadata": {
        "colab": {
          "base_uri": "https://localhost:8080/"
        },
        "id": "9YIMLI1uhwDl",
        "outputId": "23852967-99a9-42f1-a1d7-4947e19fbe95"
      },
      "execution_count": 270,
      "outputs": [
        {
          "output_type": "stream",
          "name": "stdout",
          "text": [
            "x = [0 1 2 3]\n",
            "x + 5 = [5 6 7 8]\n",
            "x - 5 = [-5 -4 -3 -2]\n",
            "x * 2 = [0 2 4 6]\n",
            "x / 2 = [0.  0.5 1.  1.5]\n",
            "x // 2 = [0 0 1 1]\n"
          ]
        }
      ]
    },
    {
      "cell_type": "code",
      "source": [
        "# negation, exponentiation, and modulus\n",
        "print(\"-x = \", -x)\n",
        "print(\"x ** 2 = \", x ** 2)\n",
        "print(\"x % 2 = \", x % 2)"
      ],
      "metadata": {
        "colab": {
          "base_uri": "https://localhost:8080/"
        },
        "id": "BbCzmArrhuh8",
        "outputId": "923b5048-6813-43d5-d2c3-e186efe111cb"
      },
      "execution_count": 271,
      "outputs": [
        {
          "output_type": "stream",
          "name": "stdout",
          "text": [
            "-x =  [ 0 -1 -2 -3]\n",
            "x ** 2 =  [0 1 4 9]\n",
            "x % 2 =  [0 1 0 1]\n"
          ]
        }
      ]
    },
    {
      "cell_type": "code",
      "source": [
        "# functions in NumPy implementing arithmetic operators\n",
        "np.add(x, 2)"
      ],
      "metadata": {
        "colab": {
          "base_uri": "https://localhost:8080/"
        },
        "id": "q4X_X83Di0yk",
        "outputId": "e1d968f0-90c0-4d31-c60f-aa8f60561bf5"
      },
      "execution_count": 272,
      "outputs": [
        {
          "output_type": "execute_result",
          "data": {
            "text/plain": [
              "array([2, 3, 4, 5])"
            ]
          },
          "metadata": {},
          "execution_count": 272
        }
      ]
    },
    {
      "cell_type": "markdown",
      "source": [
        "The following table lists the arithmetic operators implemented in NumPy:\n",
        "\n",
        "| Operator\t    | Equivalent ufunc    | Description                           |\n",
        "|---------------|---------------------|---------------------------------------|\n",
        "|``+``          |``np.add``           |Addition (e.g., ``1 + 1 = 2``)         |\n",
        "|``-``          |``np.subtract``      |Subtraction (e.g., ``3 - 2 = 1``)      |\n",
        "|``-``          |``np.negative``      |Unary negation (e.g., ``-2``)          |\n",
        "|``*``          |``np.multiply``      |Multiplication (e.g., ``2 * 3 = 6``)   |\n",
        "|``/``          |``np.divide``        |Division (e.g., ``3 / 2 = 1.5``)       |\n",
        "|``//``         |``np.floor_divide``  |Floor division (e.g., ``3 // 2 = 1``)  |\n",
        "|``**``         |``np.power``         |Exponentiation (e.g., ``2 ** 3 = 8``)  |\n",
        "|``%``          |``np.mod``           |Modulus/remainder (e.g., ``9 % 4 = 1``)|\n"
      ],
      "metadata": {
        "id": "30ekWsZyjKR1"
      }
    },
    {
      "cell_type": "markdown",
      "source": [
        "To determine the absolute value, built-in and np functions can be used."
      ],
      "metadata": {
        "id": "PGYKRk5olGD1"
      }
    },
    {
      "cell_type": "code",
      "source": [
        "x = np.array([-2, -1, 0, 1, 2])\n",
        "abs(x)"
      ],
      "metadata": {
        "colab": {
          "base_uri": "https://localhost:8080/"
        },
        "id": "sT6LUuO5kuSj",
        "outputId": "b0f0cd09-8c82-48cb-fc5d-d6297fa1d08b"
      },
      "execution_count": 273,
      "outputs": [
        {
          "output_type": "execute_result",
          "data": {
            "text/plain": [
              "array([2, 1, 0, 1, 2])"
            ]
          },
          "metadata": {},
          "execution_count": 273
        }
      ]
    },
    {
      "cell_type": "code",
      "source": [
        "# corresponding NumPy ufunc is np.absolute (alias np.abs)\n",
        "np.absolute(x)"
      ],
      "metadata": {
        "colab": {
          "base_uri": "https://localhost:8080/"
        },
        "id": "ppSZAhUpk0qr",
        "outputId": "4fa6e914-e846-4bcd-dc82-4f1ca7d42ef0"
      },
      "execution_count": 274,
      "outputs": [
        {
          "output_type": "execute_result",
          "data": {
            "text/plain": [
              "array([2, 1, 0, 1, 2])"
            ]
          },
          "metadata": {},
          "execution_count": 274
        }
      ]
    },
    {
      "cell_type": "markdown",
      "source": [
        "NumPy also provides the trigonometric functions."
      ],
      "metadata": {
        "id": "I0iWEJrplMK7"
      }
    },
    {
      "cell_type": "code",
      "source": [
        "theta = np.linspace(0, np.pi, 3)"
      ],
      "metadata": {
        "id": "bQkpJYj-lXHa"
      },
      "execution_count": 275,
      "outputs": []
    },
    {
      "cell_type": "code",
      "source": [
        "# compute some trigonometric functions on these values\n",
        "print(\"theta = \", theta)\n",
        "print(\"sin(theta) = \", np.sin(theta))\n",
        "print(\"cos(theta) = \", np.cos(theta))\n",
        "print(\"tan(theta) = \", np.tan(theta))"
      ],
      "metadata": {
        "colab": {
          "base_uri": "https://localhost:8080/"
        },
        "id": "FfngY-Owlcln",
        "outputId": "3d694d0b-424c-45e8-9753-acb06a3f6fa1"
      },
      "execution_count": 276,
      "outputs": [
        {
          "output_type": "stream",
          "name": "stdout",
          "text": [
            "theta =  [0.         1.57079633 3.14159265]\n",
            "sin(theta) =  [0.0000000e+00 1.0000000e+00 1.2246468e-16]\n",
            "cos(theta) =  [ 1.000000e+00  6.123234e-17 -1.000000e+00]\n",
            "tan(theta) =  [ 0.00000000e+00  1.63312394e+16 -1.22464680e-16]\n"
          ]
        }
      ]
    },
    {
      "cell_type": "code",
      "source": [
        "# Inverse trigonometric functions\n",
        "x = [-1, 0, 1]\n",
        "print(\"x = \", x)\n",
        "print(\"arcsin(x) = \", np.arcsin(x))\n",
        "print(\"arccos(x) = \", np.arccos(x))\n",
        "print(\"arctan(x) = \", np.arctan(x))"
      ],
      "metadata": {
        "colab": {
          "base_uri": "https://localhost:8080/"
        },
        "id": "fF7RzxzwmYeT",
        "outputId": "3d3d64f1-137d-4d77-edf0-151f7eb9cf57"
      },
      "execution_count": 277,
      "outputs": [
        {
          "output_type": "stream",
          "name": "stdout",
          "text": [
            "x =  [-1, 0, 1]\n",
            "arcsin(x) =  [-1.57079633  0.          1.57079633]\n",
            "arccos(x) =  [3.14159265 1.57079633 0.        ]\n",
            "arctan(x) =  [-0.78539816  0.          0.78539816]\n"
          ]
        }
      ]
    },
    {
      "cell_type": "markdown",
      "source": [
        "Another common type of operation available in a NumPy ufunc are the exponentials and logarithms."
      ],
      "metadata": {
        "id": "IhWAu57OmjgO"
      }
    },
    {
      "cell_type": "code",
      "source": [
        "# exponentials\n",
        "x = [1, 2, 3]\n",
        "print(\"x =\", x)\n",
        "print(\"e^x =\", np.exp(x))\n",
        "print(\"2^x =\", np.exp2(x))\n",
        "print(\"3^x =\", np.power(3, x))"
      ],
      "metadata": {
        "colab": {
          "base_uri": "https://localhost:8080/"
        },
        "id": "9JG_rmnsmi2o",
        "outputId": "7718df91-c0fa-4859-c3b3-a2e6b1919b0d"
      },
      "execution_count": 278,
      "outputs": [
        {
          "output_type": "stream",
          "name": "stdout",
          "text": [
            "x = [1, 2, 3]\n",
            "e^x = [ 2.71828183  7.3890561  20.08553692]\n",
            "2^x = [2. 4. 8.]\n",
            "3^x = [ 3  9 27]\n"
          ]
        }
      ]
    },
    {
      "cell_type": "code",
      "source": [
        "# logarithms\n",
        "x = [1, 2, 4, 10]\n",
        "print(\"x =\", x)\n",
        "print(\"ln(x) =\", np.log(x)) # natural logarithm\n",
        "print(\"log2(x) =\", np.log2(x)) # base-2\n",
        "print(\"log10(x) =\", np.log10(x)) # base-10"
      ],
      "metadata": {
        "colab": {
          "base_uri": "https://localhost:8080/"
        },
        "id": "1pRC738emriB",
        "outputId": "b7e201a5-de66-4f45-88bb-2d445c9bf06a"
      },
      "execution_count": 279,
      "outputs": [
        {
          "output_type": "stream",
          "name": "stdout",
          "text": [
            "x = [1, 2, 4, 10]\n",
            "ln(x) = [0.         0.69314718 1.38629436 2.30258509]\n",
            "log2(x) = [0.         1.         2.         3.32192809]\n",
            "log10(x) = [0.         0.30103    0.60205999 1.        ]\n"
          ]
        }
      ]
    },
    {
      "cell_type": "code",
      "source": [
        "# specialized versions useful for maintaining precision with small input\n",
        "x = [0, 0.001, 0.01, 0.1]\n",
        "print(\"exp(x) - 1 =\", np.expm1(x))\n",
        "print(\"log(1 + x) =\", np.log1p(x))"
      ],
      "metadata": {
        "colab": {
          "base_uri": "https://localhost:8080/"
        },
        "id": "-Q-SGncTnPKj",
        "outputId": "a23f2750-0028-4d02-dddd-39c3a00f2c98"
      },
      "execution_count": 280,
      "outputs": [
        {
          "output_type": "stream",
          "name": "stdout",
          "text": [
            "exp(x) - 1 = [0.         0.0010005  0.01005017 0.10517092]\n",
            "log(1 + x) = [0.         0.0009995  0.00995033 0.09531018]\n"
          ]
        }
      ]
    },
    {
      "cell_type": "markdown",
      "source": [
        "NumPy has many more ufuncs available, including hyperbolic trig functions, bitwise arithmetic, comparison operators, conversions from radians to degrees, rounding and\n",
        "remainders, and much more (see NumPy documentation for details).\n",
        "\n",
        "Another excellent source for more specialized and obscure ufuncs is the submodule *scipy.special*.\n",
        "\n",
        "For large calculations, it is sometimes useful to be able to specify the array where the\n",
        "result of the calculation will be stored to save results of computation directly to memory. "
      ],
      "metadata": {
        "id": "RpjdYIf1nyij"
      }
    },
    {
      "cell_type": "code",
      "source": [
        "x = np.arange(5)\n",
        "y = np.empty(5)\n",
        "np.multiply(x, 10, out=y)\n",
        "print(y)"
      ],
      "metadata": {
        "colab": {
          "base_uri": "https://localhost:8080/"
        },
        "id": "pAaEwU9ioLLS",
        "outputId": "e52a2b06-80f6-4fd5-a1bd-f1113bc57bdb"
      },
      "execution_count": 281,
      "outputs": [
        {
          "output_type": "stream",
          "name": "stdout",
          "text": [
            "[ 0. 10. 20. 30. 40.]\n"
          ]
        }
      ]
    },
    {
      "cell_type": "code",
      "source": [
        "# write the results of computation to every other element of a specified array\n",
        "y = np.zeros(10)\n",
        "np.power(2, x, out=y[::2])\n",
        "print(y)"
      ],
      "metadata": {
        "colab": {
          "base_uri": "https://localhost:8080/"
        },
        "id": "rM-RDOYyo4n_",
        "outputId": "f55e506f-beed-4ab2-c2dd-19df01709ad3"
      },
      "execution_count": 282,
      "outputs": [
        {
          "output_type": "stream",
          "name": "stdout",
          "text": [
            "[ 1.  0.  2.  0.  4.  0.  8.  0. 16.  0.]\n"
          ]
        }
      ]
    },
    {
      "cell_type": "markdown",
      "source": [
        "For binary ufuncs, there are some interesting aggregates that can be computed directly from the object.\n",
        "\n",
        "For example, if we’d like to reduce an array with a particular operation, we can use the reduce method of any ufunc. A reduce repeatedly applies a given operation to the elements of an array until only a single result remains."
      ],
      "metadata": {
        "id": "MvADdnkr0VxM"
      }
    },
    {
      "cell_type": "code",
      "source": [
        "x = np.arange(1, 6)\n",
        "# calling reduce on the add ufunc returns the sum of all elements in the array\n",
        "np.add.reduce(x)"
      ],
      "metadata": {
        "colab": {
          "base_uri": "https://localhost:8080/"
        },
        "id": "1kSaoi5T0fSS",
        "outputId": "73f0d3db-c721-481e-c84c-f9e112cad878"
      },
      "execution_count": 283,
      "outputs": [
        {
          "output_type": "execute_result",
          "data": {
            "text/plain": [
              "15"
            ]
          },
          "metadata": {},
          "execution_count": 283
        }
      ]
    },
    {
      "cell_type": "code",
      "source": [
        "# results in the product of all array elements\n",
        "np.multiply.reduce(x)"
      ],
      "metadata": {
        "colab": {
          "base_uri": "https://localhost:8080/"
        },
        "id": "Czu5Vrhz0vHX",
        "outputId": "74be04f5-e013-4120-df2d-1f49af733921"
      },
      "execution_count": 284,
      "outputs": [
        {
          "output_type": "execute_result",
          "data": {
            "text/plain": [
              "120"
            ]
          },
          "metadata": {},
          "execution_count": 284
        }
      ]
    },
    {
      "cell_type": "code",
      "source": [
        "# to store all the intermediate results of the computation\n",
        "np.add.accumulate(x)"
      ],
      "metadata": {
        "colab": {
          "base_uri": "https://localhost:8080/"
        },
        "id": "0EUchfSw07jl",
        "outputId": "7a34d663-e96c-4f5e-94eb-a805dbd489fa"
      },
      "execution_count": 285,
      "outputs": [
        {
          "output_type": "execute_result",
          "data": {
            "text/plain": [
              "array([ 1,  3,  6, 10, 15])"
            ]
          },
          "metadata": {},
          "execution_count": 285
        }
      ]
    },
    {
      "cell_type": "code",
      "source": [
        "np.multiply.accumulate(x)"
      ],
      "metadata": {
        "colab": {
          "base_uri": "https://localhost:8080/"
        },
        "id": "7YUL1nvG1LP6",
        "outputId": "31375e42-8fd3-4fdd-c0e0-09ef3983415e"
      },
      "execution_count": 286,
      "outputs": [
        {
          "output_type": "execute_result",
          "data": {
            "text/plain": [
              "array([  1,   2,   6,  24, 120])"
            ]
          },
          "metadata": {},
          "execution_count": 286
        }
      ]
    },
    {
      "cell_type": "markdown",
      "source": [
        "Any ufunc can compute the output of all pairs of two different inputs using the outer method."
      ],
      "metadata": {
        "id": "7bK5UEtg1U1R"
      }
    },
    {
      "cell_type": "code",
      "source": [
        "x = np.arange(1, 6)\n",
        "np.multiply.outer(x, x)"
      ],
      "metadata": {
        "colab": {
          "base_uri": "https://localhost:8080/"
        },
        "id": "eXjl54rL1ag5",
        "outputId": "c21c45ae-19dd-444d-edea-d40bfcb73138"
      },
      "execution_count": 287,
      "outputs": [
        {
          "output_type": "execute_result",
          "data": {
            "text/plain": [
              "array([[ 1,  2,  3,  4,  5],\n",
              "       [ 2,  4,  6,  8, 10],\n",
              "       [ 3,  6,  9, 12, 15],\n",
              "       [ 4,  8, 12, 16, 20],\n",
              "       [ 5, 10, 15, 20, 25]])"
            ]
          },
          "metadata": {},
          "execution_count": 287
        }
      ]
    },
    {
      "cell_type": "markdown",
      "source": [
        "## Aggregations: Min, Max, and Everything in Between\n",
        "\n",
        "NumPy can be used to compute summary statistics.\n",
        "\n",
        "For instance, to compute the sum of an array, the built-in function sum or np.sum can be used.\n",
        "\n",
        "However, np.sum is quicker because it executes compiled code."
      ],
      "metadata": {
        "id": "98RO311g1rRk"
      }
    },
    {
      "cell_type": "code",
      "source": [
        "L = np.random.random(100)\n",
        "sum(L)"
      ],
      "metadata": {
        "colab": {
          "base_uri": "https://localhost:8080/"
        },
        "id": "I6xZYhHw6JET",
        "outputId": "2ae9b083-81f0-40eb-ed82-081e9c6891ef"
      },
      "execution_count": 288,
      "outputs": [
        {
          "output_type": "execute_result",
          "data": {
            "text/plain": [
              "52.12818058833704"
            ]
          },
          "metadata": {},
          "execution_count": 288
        }
      ]
    },
    {
      "cell_type": "code",
      "source": [
        "np.sum(L)"
      ],
      "metadata": {
        "colab": {
          "base_uri": "https://localhost:8080/"
        },
        "id": "X4AOHyil6KUo",
        "outputId": "288d71d8-f21a-420e-83c1-f8c8a5673c13"
      },
      "execution_count": 289,
      "outputs": [
        {
          "output_type": "execute_result",
          "data": {
            "text/plain": [
              "52.12818058833702"
            ]
          },
          "metadata": {},
          "execution_count": 289
        }
      ]
    },
    {
      "cell_type": "code",
      "source": [
        "big_array = np.random.rand(1000000)\n",
        "%timeit sum(big_array)\n",
        "%timeit np.sum(big_array)"
      ],
      "metadata": {
        "colab": {
          "base_uri": "https://localhost:8080/"
        },
        "id": "jEQdiq7g7A9x",
        "outputId": "320511e6-8af1-4d26-c906-8c0f36b31cf1"
      },
      "execution_count": 290,
      "outputs": [
        {
          "output_type": "stream",
          "name": "stdout",
          "text": [
            "89 ms ± 2.37 ms per loop (mean ± std. dev. of 7 runs, 10 loops each)\n",
            "389 µs ± 16.5 µs per loop (mean ± std. dev. of 7 runs, 1000 loops each)\n"
          ]
        }
      ]
    },
    {
      "cell_type": "markdown",
      "source": [
        "Python has built-in min and max functions, used to find the minimum value and maximum value of any given array."
      ],
      "metadata": {
        "id": "_A6C80rE59gF"
      }
    },
    {
      "cell_type": "code",
      "source": [
        "min(big_array), max(big_array)"
      ],
      "metadata": {
        "colab": {
          "base_uri": "https://localhost:8080/"
        },
        "id": "km851Szx7Zhd",
        "outputId": "49ebfdd6-414b-4057-f14c-3d9f22b6a87e"
      },
      "execution_count": 291,
      "outputs": [
        {
          "output_type": "execute_result",
          "data": {
            "text/plain": [
              "(1.4057692298008462e-06, 0.9999994392723005)"
            ]
          },
          "metadata": {},
          "execution_count": 291
        }
      ]
    },
    {
      "cell_type": "markdown",
      "source": [
        "NumPy’s corresponding functions have similar syntax and operate quicker."
      ],
      "metadata": {
        "id": "5niArmOO7nV0"
      }
    },
    {
      "cell_type": "code",
      "source": [
        "np.min(big_array), np.max(big_array)"
      ],
      "metadata": {
        "colab": {
          "base_uri": "https://localhost:8080/"
        },
        "id": "Qcf6gxub7ksg",
        "outputId": "c9a7c00a-ee75-40ff-89aa-7d2b2794cca5"
      },
      "execution_count": 292,
      "outputs": [
        {
          "output_type": "execute_result",
          "data": {
            "text/plain": [
              "(1.4057692298008462e-06, 0.9999994392723005)"
            ]
          },
          "metadata": {},
          "execution_count": 292
        }
      ]
    },
    {
      "cell_type": "code",
      "source": [
        "%timeit min(big_array)\n",
        "%timeit np.min(big_array)"
      ],
      "metadata": {
        "colab": {
          "base_uri": "https://localhost:8080/"
        },
        "id": "lJs3nfb77yuu",
        "outputId": "27191119-061d-4f66-bbae-f37ade39790f"
      },
      "execution_count": 293,
      "outputs": [
        {
          "output_type": "stream",
          "name": "stdout",
          "text": [
            "60.2 ms ± 1.38 ms per loop (mean ± std. dev. of 7 runs, 10 loops each)\n",
            "424 µs ± 4.39 µs per loop (mean ± std. dev. of 7 runs, 1000 loops each)\n"
          ]
        }
      ]
    },
    {
      "cell_type": "markdown",
      "source": [
        "For min, max, sum, and several other NumPy aggregates, a shorter syntax is to use methods of the array object itself."
      ],
      "metadata": {
        "id": "UU4wgwI377r6"
      }
    },
    {
      "cell_type": "code",
      "source": [
        "print(big_array.min(), big_array.max(), big_array.sum())"
      ],
      "metadata": {
        "colab": {
          "base_uri": "https://localhost:8080/"
        },
        "id": "xzL0TUdN7-s1",
        "outputId": "73f56e57-a192-4030-ddc2-80f565fe2662"
      },
      "execution_count": 294,
      "outputs": [
        {
          "output_type": "stream",
          "name": "stdout",
          "text": [
            "1.4057692298008462e-06 0.9999994392723005 500202.5348847683\n"
          ]
        }
      ]
    },
    {
      "cell_type": "markdown",
      "source": [
        "Aggregatiuon is possible along rows or columns. By default, each NumPy aggregation function will return the aggregate over the entire array.\n",
        "\n"
      ],
      "metadata": {
        "id": "Dnonnwb995Qc"
      }
    },
    {
      "cell_type": "code",
      "source": [
        "M = np.random.random((3, 4))\n",
        "print(M)"
      ],
      "metadata": {
        "colab": {
          "base_uri": "https://localhost:8080/"
        },
        "id": "weadb2mT94xs",
        "outputId": "9ffbd04a-f96b-4312-c6c9-f5f9fb124450"
      },
      "execution_count": 295,
      "outputs": [
        {
          "output_type": "stream",
          "name": "stdout",
          "text": [
            "[[0.50063048 0.07383653 0.49018646 0.72521956]\n",
            " [0.84926562 0.10226215 0.99559424 0.59250301]\n",
            " [0.53509    0.88518089 0.25518136 0.13130483]]\n"
          ]
        }
      ]
    },
    {
      "cell_type": "code",
      "source": [
        "# default: aggregate over entire array\n",
        "M.sum()"
      ],
      "metadata": {
        "colab": {
          "base_uri": "https://localhost:8080/"
        },
        "id": "jQoaxQmx-Br1",
        "outputId": "4f72f3fc-400a-4cd3-dc23-432029cb275a"
      },
      "execution_count": 296,
      "outputs": [
        {
          "output_type": "execute_result",
          "data": {
            "text/plain": [
              "6.1362551272647154"
            ]
          },
          "metadata": {},
          "execution_count": 296
        }
      ]
    },
    {
      "cell_type": "markdown",
      "source": [
        "To aggregate across rows or columns, the axis argument can be used.\n",
        "\n",
        "The axis keyword specifies the dimension of the array that will be collapsed, rather than the dimension that will be returned."
      ],
      "metadata": {
        "id": "0BzVo3x1-XAk"
      }
    },
    {
      "cell_type": "code",
      "source": [
        "# minimum value in each column: axis=0 (vertical along rows)\n",
        "M.min(axis=0)"
      ],
      "metadata": {
        "colab": {
          "base_uri": "https://localhost:8080/"
        },
        "id": "hBtr2N6s-fig",
        "outputId": "ac3753fb-9329-4433-df27-e4bd9253692e"
      },
      "execution_count": 297,
      "outputs": [
        {
          "output_type": "execute_result",
          "data": {
            "text/plain": [
              "array([0.50063048, 0.07383653, 0.25518136, 0.13130483])"
            ]
          },
          "metadata": {},
          "execution_count": 297
        }
      ]
    },
    {
      "cell_type": "code",
      "source": [
        "# maximum value in each row: axis=1 (horizontal along columns)\n",
        "M.max(axis=1)"
      ],
      "metadata": {
        "colab": {
          "base_uri": "https://localhost:8080/"
        },
        "id": "ZETU-gg8-qIh",
        "outputId": "f6c19abd-2874-4ea5-d14f-c6e674afb40e"
      },
      "execution_count": 298,
      "outputs": [
        {
          "output_type": "execute_result",
          "data": {
            "text/plain": [
              "array([0.72521956, 0.99559424, 0.88518089])"
            ]
          },
          "metadata": {},
          "execution_count": 298
        }
      ]
    },
    {
      "cell_type": "markdown",
      "source": [
        "Other aggregation functions (including their NaN-safe versions) are listed below.\n",
        "\n",
        "The following table provides a list of useful aggregation functions available in NumPy:\n",
        "\n",
        "|Function Name      |   NaN-safe Version  | Description                                   |\n",
        "|-------------------|---------------------|-----------------------------------------------|\n",
        "| ``np.sum``        | ``np.nansum``       | Compute sum of elements                       |\n",
        "| ``np.prod``       | ``np.nanprod``      | Compute product of elements                   |\n",
        "| ``np.mean``       | ``np.nanmean``      | Compute mean of elements                      |\n",
        "| ``np.std``        | ``np.nanstd``       | Compute standard deviation                    |\n",
        "| ``np.var``        | ``np.nanvar``       | Compute variance                              |\n",
        "| ``np.min``        | ``np.nanmin``       | Find minimum value                            |\n",
        "| ``np.max``        | ``np.nanmax``       | Find maximum value                            |\n",
        "| ``np.argmin``     | ``np.nanargmin``    | Find index of minimum value                   |\n",
        "| ``np.argmax``     | ``np.nanargmax``    | Find index of maximum value                   |\n",
        "| ``np.median``     | ``np.nanmedian``    | Compute median of elements                    |\n",
        "| ``np.percentile`` | ``np.nanpercentile``| Compute rank-based statistics of elements     |\n",
        "| ``np.any``        | N/A                 | Evaluate whether any elements are true        |\n",
        "| ``np.all``        | N/A                 | Evaluate whether all elements are true        |\n"
      ],
      "metadata": {
        "id": "BkEKBqsF_dZK"
      }
    },
    {
      "cell_type": "markdown",
      "source": [
        "## Example: What Is the Average Height of US Presidents?"
      ],
      "metadata": {
        "id": "Ykf_54sw_pal"
      }
    }
  ]
}