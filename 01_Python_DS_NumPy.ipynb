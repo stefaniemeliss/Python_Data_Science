{
  "nbformat": 4,
  "nbformat_minor": 0,
  "metadata": {
    "colab": {
      "provenance": [],
      "collapsed_sections": [],
      "mount_file_id": "1AB1GjJlFLSO-EKhJrL5t-Okt9Fy6l9dG",
      "authorship_tag": "ABX9TyOtfwq/0HPVN6gSyAH//0jr",
      "include_colab_link": true
    },
    "kernelspec": {
      "name": "python3",
      "display_name": "Python 3"
    },
    "language_info": {
      "name": "python"
    }
  },
  "cells": [
    {
      "cell_type": "markdown",
      "metadata": {
        "id": "view-in-github",
        "colab_type": "text"
      },
      "source": [
        "<a href=\"https://colab.research.google.com/github/stefaniemeliss/Python_Data_Science/blob/main/01_Python_DS_NumPy.ipynb\" target=\"_parent\"><img src=\"https://colab.research.google.com/assets/colab-badge.svg\" alt=\"Open In Colab\"/></a>"
      ]
    },
    {
      "cell_type": "markdown",
      "source": [
        "# Introduction to NumPy"
      ],
      "metadata": {
        "id": "7IVLKCiQC18f"
      }
    },
    {
      "cell_type": "code",
      "execution_count": null,
      "metadata": {
        "id": "KahxkU3NC1NT"
      },
      "outputs": [],
      "source": [
        "# import\n",
        "import numpy as np"
      ]
    },
    {
      "cell_type": "markdown",
      "source": [
        "In Python, types of variables are automatically inferred. \n",
        "\n",
        "Lists can be created based on heterogeneous elements (e.g., bool, str, float, int) and are then referred to as *dynamic-type* list.\n",
        "\n",
        "Lists with homogeneous elements are referred to as *fixed-type* list and computationally more efficient as they only need one pointer to a continous block of data, but also lack flexibility.\n",
        "\n",
        "To create arrays in Python, the built-in **array** module can be used.\n",
        "\n",
        "In NumPy, **ndarray** object stores data efficiently and ands operations to it (i.e., methods). \n",
        "\n",
        "## NumPy Arrays"
      ],
      "metadata": {
        "id": "ZL6vzShZEeik"
      }
    },
    {
      "cell_type": "code",
      "source": [
        "# create array from python list\n",
        "np.array([1, 4, 2, 5, 3])  "
      ],
      "metadata": {
        "colab": {
          "base_uri": "https://localhost:8080/"
        },
        "id": "dTgMRtpeHyYN",
        "outputId": "7eeaacd0-db54-4158-9c8e-bae34ba964bc"
      },
      "execution_count": null,
      "outputs": [
        {
          "output_type": "execute_result",
          "data": {
            "text/plain": [
              "array([1, 4, 2, 5, 3])"
            ]
          },
          "metadata": {},
          "execution_count": 203
        }
      ]
    },
    {
      "cell_type": "markdown",
      "source": [
        "However, ndarrays can only store data of the same type and will upscale if possible (i.e., from integer to float)."
      ],
      "metadata": {
        "id": "eFEwEVHRcu0q"
      }
    },
    {
      "cell_type": "code",
      "source": [
        "# upscaling from integer to float\n",
        "np.array([3.14, 4, 2, 3])"
      ],
      "metadata": {
        "colab": {
          "base_uri": "https://localhost:8080/"
        },
        "id": "NWWi-I74cv-B",
        "outputId": "aa923d5b-69af-4d5b-d4b1-a99262981b73"
      },
      "execution_count": null,
      "outputs": [
        {
          "output_type": "execute_result",
          "data": {
            "text/plain": [
              "array([3.14, 4.  , 2.  , 3.  ])"
            ]
          },
          "metadata": {},
          "execution_count": 204
        }
      ]
    },
    {
      "cell_type": "markdown",
      "source": [
        "Data type can also explicitely be specified."
      ],
      "metadata": {
        "id": "V9Lzz5o1c3Dt"
      }
    },
    {
      "cell_type": "code",
      "source": [
        "np.array([1, 2, 3, 4], dtype = 'float32')"
      ],
      "metadata": {
        "colab": {
          "base_uri": "https://localhost:8080/"
        },
        "id": "1C-ygndec7L8",
        "outputId": "f061ecb0-24b2-4ebe-f402-a913ca35695f"
      },
      "execution_count": null,
      "outputs": [
        {
          "output_type": "execute_result",
          "data": {
            "text/plain": [
              "array([1., 2., 3., 4.], dtype=float32)"
            ]
          },
          "metadata": {},
          "execution_count": 205
        }
      ]
    },
    {
      "cell_type": "markdown",
      "source": [
        "NumPy arrays can also be multidimensional."
      ],
      "metadata": {
        "id": "Wuc0Jff_dMhc"
      }
    },
    {
      "cell_type": "code",
      "source": [
        "# create multidimensional array using nested lists\n",
        "np.array([range(i, i + 3) for i in [2, 4, 6]])\n",
        "# for each i, create an array ranging from i to excluding i + 3"
      ],
      "metadata": {
        "colab": {
          "base_uri": "https://localhost:8080/"
        },
        "id": "7mamla3JdSwh",
        "outputId": "d0409070-b567-4c1d-8230-18b6f4627cd9"
      },
      "execution_count": null,
      "outputs": [
        {
          "output_type": "execute_result",
          "data": {
            "text/plain": [
              "array([[2, 3, 4],\n",
              "       [4, 5, 6],\n",
              "       [6, 7, 8]])"
            ]
          },
          "metadata": {},
          "execution_count": 206
        }
      ]
    },
    {
      "cell_type": "markdown",
      "source": [
        "There are several routins built into NumPy to create arrays."
      ],
      "metadata": {
        "id": "gnFDaL0MT0aQ"
      }
    },
    {
      "cell_type": "code",
      "source": [
        "# Create a length-10 integer array filled with zeros\n",
        "np.zeros(10, dtype=int)"
      ],
      "metadata": {
        "colab": {
          "base_uri": "https://localhost:8080/"
        },
        "id": "ocGsdRrNVZWT",
        "outputId": "c446c7a7-d98d-4ac7-a574-1ae10320695f"
      },
      "execution_count": null,
      "outputs": [
        {
          "output_type": "execute_result",
          "data": {
            "text/plain": [
              "array([0, 0, 0, 0, 0, 0, 0, 0, 0, 0])"
            ]
          },
          "metadata": {},
          "execution_count": 207
        }
      ]
    },
    {
      "cell_type": "code",
      "source": [
        "# Create a 3x5 floating-point array filled with 1s\n",
        "np.ones((3, 5), dtype=float)"
      ],
      "metadata": {
        "colab": {
          "base_uri": "https://localhost:8080/"
        },
        "id": "YFzuwv8XVsIL",
        "outputId": "ee0f24a0-72ad-415c-be02-d685f8fc22d1"
      },
      "execution_count": null,
      "outputs": [
        {
          "output_type": "execute_result",
          "data": {
            "text/plain": [
              "array([[1., 1., 1., 1., 1.],\n",
              "       [1., 1., 1., 1., 1.],\n",
              "       [1., 1., 1., 1., 1.]])"
            ]
          },
          "metadata": {},
          "execution_count": 208
        }
      ]
    },
    {
      "cell_type": "code",
      "source": [
        "# Create a 3x5 array filled with 3.14\n",
        "np.full((3, 5), 3.14)"
      ],
      "metadata": {
        "colab": {
          "base_uri": "https://localhost:8080/"
        },
        "id": "8oQ87p1tVwew",
        "outputId": "20a7e314-5c86-4f10-d842-6e50377d5d3d"
      },
      "execution_count": null,
      "outputs": [
        {
          "output_type": "execute_result",
          "data": {
            "text/plain": [
              "array([[3.14, 3.14, 3.14, 3.14, 3.14],\n",
              "       [3.14, 3.14, 3.14, 3.14, 3.14],\n",
              "       [3.14, 3.14, 3.14, 3.14, 3.14]])"
            ]
          },
          "metadata": {},
          "execution_count": 209
        }
      ]
    },
    {
      "cell_type": "code",
      "source": [
        "# Create an array filled with a linear sequence\n",
        "# Starting at 0, ending at 20, stepping by 2\n",
        "# (this is similar to the built-in range() function)\n",
        "np.arange(0, 20, 2)"
      ],
      "metadata": {
        "colab": {
          "base_uri": "https://localhost:8080/"
        },
        "id": "QKUgmr_RYkcB",
        "outputId": "158ac241-7ff0-47a7-e950-2f647a2287c7"
      },
      "execution_count": null,
      "outputs": [
        {
          "output_type": "execute_result",
          "data": {
            "text/plain": [
              "array([ 0,  2,  4,  6,  8, 10, 12, 14, 16, 18])"
            ]
          },
          "metadata": {},
          "execution_count": 210
        }
      ]
    },
    {
      "cell_type": "code",
      "source": [
        "# Create an array of five values evenly spaced between 0 and 1\n",
        "np.linspace(0, 1, 5)"
      ],
      "metadata": {
        "colab": {
          "base_uri": "https://localhost:8080/"
        },
        "id": "TlJwXsxyZD4P",
        "outputId": "c2a9bfc3-0023-4eb0-daac-8cca2068a1f4"
      },
      "execution_count": null,
      "outputs": [
        {
          "output_type": "execute_result",
          "data": {
            "text/plain": [
              "array([0.  , 0.25, 0.5 , 0.75, 1.  ])"
            ]
          },
          "metadata": {},
          "execution_count": 211
        }
      ]
    },
    {
      "cell_type": "code",
      "source": [
        "# Create a 3x3 array of uniformly distributed\n",
        "# random values between 0 and 1\n",
        "np.random.random((3, 3))"
      ],
      "metadata": {
        "colab": {
          "base_uri": "https://localhost:8080/"
        },
        "id": "V9t9RTuMZGJu",
        "outputId": "90eaefd5-6a28-4bb7-f8a4-882a41d5b941"
      },
      "execution_count": null,
      "outputs": [
        {
          "output_type": "execute_result",
          "data": {
            "text/plain": [
              "array([[0.95884927, 0.17809462, 0.61130112],\n",
              "       [0.7044003 , 0.89172417, 0.51511729],\n",
              "       [0.73705298, 0.17818634, 0.24485169]])"
            ]
          },
          "metadata": {},
          "execution_count": 212
        }
      ]
    },
    {
      "cell_type": "code",
      "source": [
        "# Create a 3x3 array of normally distributed random values\n",
        "# with mean 0 and standard deviation 1\n",
        "np.random.normal(0, 1, (3, 3))"
      ],
      "metadata": {
        "colab": {
          "base_uri": "https://localhost:8080/"
        },
        "id": "T3IGwKTYZSeM",
        "outputId": "c07ff095-274e-4255-bbb4-bc44d3b434f0"
      },
      "execution_count": null,
      "outputs": [
        {
          "output_type": "execute_result",
          "data": {
            "text/plain": [
              "array([[-1.59773649,  0.21182799,  0.81131318],\n",
              "       [-0.64544226,  0.6196507 ,  0.79309108],\n",
              "       [-1.22073533, -0.83303769, -1.59226632]])"
            ]
          },
          "metadata": {},
          "execution_count": 213
        }
      ]
    },
    {
      "cell_type": "code",
      "source": [
        "# Create a 3x3 array of normally distributed random values\n",
        "# with mean 0 and standard deviation 1\n",
        "np.random.normal(0, 1, (3, 3))"
      ],
      "metadata": {
        "colab": {
          "base_uri": "https://localhost:8080/"
        },
        "id": "2jjcH-44ZYUA",
        "outputId": "3246f33b-7503-424b-b8fc-61df9e9ccaf4"
      },
      "execution_count": null,
      "outputs": [
        {
          "output_type": "execute_result",
          "data": {
            "text/plain": [
              "array([[-1.36469538, -0.40030603, -0.71114687],\n",
              "       [-0.34223102,  0.4368197 , -0.58348496],\n",
              "       [-1.55200935, -0.11602464,  1.79654673]])"
            ]
          },
          "metadata": {},
          "execution_count": 214
        }
      ]
    },
    {
      "cell_type": "code",
      "source": [
        "# Create a 3x3 array of random integers in the interval [0, 10)\n",
        "np.random.randint(0, 10, (3, 3))"
      ],
      "metadata": {
        "colab": {
          "base_uri": "https://localhost:8080/"
        },
        "id": "BSkLxS6XZ4Qv",
        "outputId": "97e012ae-bdae-46ca-9c96-0455013fe393"
      },
      "execution_count": null,
      "outputs": [
        {
          "output_type": "execute_result",
          "data": {
            "text/plain": [
              "array([[0, 6, 4],\n",
              "       [9, 1, 2],\n",
              "       [2, 7, 9]])"
            ]
          },
          "metadata": {},
          "execution_count": 215
        }
      ]
    },
    {
      "cell_type": "code",
      "source": [
        "# Create a 3x3 identity matrix\n",
        "np.eye(3)"
      ],
      "metadata": {
        "colab": {
          "base_uri": "https://localhost:8080/"
        },
        "id": "6UV2ToCyaTe6",
        "outputId": "0dee441d-f576-40d0-9bb1-88832d50b66f"
      },
      "execution_count": null,
      "outputs": [
        {
          "output_type": "execute_result",
          "data": {
            "text/plain": [
              "array([[1., 0., 0.],\n",
              "       [0., 1., 0.],\n",
              "       [0., 0., 1.]])"
            ]
          },
          "metadata": {},
          "execution_count": 216
        }
      ]
    },
    {
      "cell_type": "code",
      "source": [
        "# Create an uninitialized array of three integers\n",
        "# The values will be whatever happens to already exist at that\n",
        "# memory location\n",
        "np.empty(3)"
      ],
      "metadata": {
        "colab": {
          "base_uri": "https://localhost:8080/"
        },
        "id": "ueQ-TrNVaXX_",
        "outputId": "c4c5c963-a627-48ea-9337-253e694b92e2"
      },
      "execution_count": null,
      "outputs": [
        {
          "output_type": "execute_result",
          "data": {
            "text/plain": [
              "array([1., 1., 1.])"
            ]
          },
          "metadata": {},
          "execution_count": 217
        }
      ]
    },
    {
      "cell_type": "markdown",
      "source": [
        "## NumPy Standard Data Types\n",
        "NumPy arrays contain values of a single type, so it is important to have detailed\n",
        "knowledge of those types and their limitations. The datatype of the array can be assigned using a character string.\n",
        "\n",
        "*   bool_ - Boolean (True or False) stored as a byte\n",
        "*   int_ - Default integer type (same as C long; normally either int64 or int32) \n",
        "*   unit_ - Shorthand for unsigned integer\n",
        "*   float_ - Shorthand for float64\n",
        "*   complex_ - Shorthand for complex128\n",
        "\n",
        "## Basics of NumPy Arrays\n",
        "\n",
        "Data manipulation in Python often synonymous to wrangling data in NumPy.\n",
        "\n",
        "*   *Attributes of arrays*: Determining the size, shape, memory consumption, and data types of arrays\n",
        "*   *Indexing of arrays*: Getting and setting the value of individual array elements\n",
        "*   *Slicing of arrays*: Getting and setting smaller subarrays within a larger array\n",
        "*   *Reshaping of arrays*: Changing the shape of a given array\n",
        "*   *Joining and splitting of arrays*: Combining multiple arrays into one, and splitting one array into many\n",
        "\n",
        "### NumPy Array Attributes\n"
      ],
      "metadata": {
        "id": "TBi0uOSOadAG"
      }
    },
    {
      "cell_type": "code",
      "source": [
        "# create three random arrays\n",
        "np.random.seed(0) # seed for reproducibility\n",
        "x1 = np.random.randint(10, size=6) # One-dimensional array\n",
        "x2 = np.random.randint(10, size=(3, 4)) # Two-dimensional array\n",
        "x3 = np.random.randint(10, size=(3, 4, 5)) # Three-dimensional array"
      ],
      "metadata": {
        "id": "gGBDlr5ab452"
      },
      "execution_count": null,
      "outputs": []
    },
    {
      "cell_type": "markdown",
      "source": [
        "*   ndim (number of dimensions)\n",
        "*   shape (size of each dimension)\n",
        "*   size (total size of the array)\n",
        "*   dtype (data type)\n",
        "*   itemsize (size (in bytes) of each array element)\n",
        "*   nbytes (total size (in bytes) of the array)"
      ],
      "metadata": {
        "id": "vVjaFcHSfAm8"
      }
    },
    {
      "cell_type": "code",
      "source": [
        "# access information about attributes\n",
        "print(\"x3 ndim: \", x3.ndim)\n",
        "print(\"x3 shape:\", x3.shape)\n",
        "print(\"x3 size: \", x3.size)\n",
        "print(\"dtype:\", x3.dtype)\n",
        "print(\"itemsize:\", x3.itemsize, \"bytes\")\n",
        "print(\"nbytes:\", x3.nbytes, \"bytes\") # nbytes is equal to itemsize times size"
      ],
      "metadata": {
        "colab": {
          "base_uri": "https://localhost:8080/"
        },
        "id": "ZoL9LkOcdaUZ",
        "outputId": "9f0654ba-8c23-48dd-ecb9-93669b46d98d"
      },
      "execution_count": null,
      "outputs": [
        {
          "output_type": "stream",
          "name": "stdout",
          "text": [
            "x3 ndim:  3\n",
            "x3 shape: (3, 4, 5)\n",
            "x3 size:  60\n",
            "dtype: int64\n",
            "itemsize: 8 bytes\n",
            "nbytes: 480 bytes\n"
          ]
        }
      ]
    },
    {
      "cell_type": "markdown",
      "source": [
        "### Array Indexing\n",
        "\n",
        "NumPy indexing largely overlaps with Python's indexing: In a one-dimensional array, one can access the ith value(counting from zero) by specifying the desired index in square brackets, just as with Python lists."
      ],
      "metadata": {
        "id": "wjeioGO7g1n3"
      }
    },
    {
      "cell_type": "code",
      "source": [
        "x1"
      ],
      "metadata": {
        "colab": {
          "base_uri": "https://localhost:8080/"
        },
        "id": "dvU7JgmlHt50",
        "outputId": "686be317-803c-4200-c7bc-ec481fcaa62d"
      },
      "execution_count": null,
      "outputs": [
        {
          "output_type": "execute_result",
          "data": {
            "text/plain": [
              "array([5, 0, 3, 3, 7, 9])"
            ]
          },
          "metadata": {},
          "execution_count": 220
        }
      ]
    },
    {
      "cell_type": "code",
      "source": [
        "x1[0]"
      ],
      "metadata": {
        "colab": {
          "base_uri": "https://localhost:8080/"
        },
        "id": "cbe1xfPbHxUy",
        "outputId": "164640cd-f116-4bd2-b124-58215641c8be"
      },
      "execution_count": null,
      "outputs": [
        {
          "output_type": "execute_result",
          "data": {
            "text/plain": [
              "5"
            ]
          },
          "metadata": {},
          "execution_count": 221
        }
      ]
    },
    {
      "cell_type": "code",
      "source": [
        "x1[4]"
      ],
      "metadata": {
        "colab": {
          "base_uri": "https://localhost:8080/"
        },
        "id": "MVCRrIItH30P",
        "outputId": "89694ae9-79ad-49b9-9648-e5d3916cdbdf"
      },
      "execution_count": null,
      "outputs": [
        {
          "output_type": "execute_result",
          "data": {
            "text/plain": [
              "7"
            ]
          },
          "metadata": {},
          "execution_count": 222
        }
      ]
    },
    {
      "cell_type": "markdown",
      "source": [
        "To index from the end of the array, one can use negative indices"
      ],
      "metadata": {
        "id": "HAPcFWF4ID88"
      }
    },
    {
      "cell_type": "code",
      "source": [
        "x1[-1]"
      ],
      "metadata": {
        "colab": {
          "base_uri": "https://localhost:8080/"
        },
        "id": "y2YHU2jCIGqk",
        "outputId": "54281526-aad4-4f91-e43e-f78a53e79b5e"
      },
      "execution_count": null,
      "outputs": [
        {
          "output_type": "execute_result",
          "data": {
            "text/plain": [
              "9"
            ]
          },
          "metadata": {},
          "execution_count": 223
        }
      ]
    },
    {
      "cell_type": "code",
      "source": [
        "x1[-2]"
      ],
      "metadata": {
        "colab": {
          "base_uri": "https://localhost:8080/"
        },
        "id": "xPcJatQ-IKXY",
        "outputId": "c883e0e1-071c-453a-dbc8-d77d8e8b6224"
      },
      "execution_count": null,
      "outputs": [
        {
          "output_type": "execute_result",
          "data": {
            "text/plain": [
              "7"
            ]
          },
          "metadata": {},
          "execution_count": 224
        }
      ]
    },
    {
      "cell_type": "markdown",
      "source": [
        "In a multidimensional array, one accesses items using a comma-separated tuple of\n",
        "indices."
      ],
      "metadata": {
        "id": "NFYAL23OIaaX"
      }
    },
    {
      "cell_type": "code",
      "source": [
        "x2"
      ],
      "metadata": {
        "colab": {
          "base_uri": "https://localhost:8080/"
        },
        "id": "T0EngT10Ifyh",
        "outputId": "073d0124-b16c-49ab-d73f-252c62e66713"
      },
      "execution_count": null,
      "outputs": [
        {
          "output_type": "execute_result",
          "data": {
            "text/plain": [
              "array([[3, 5, 2, 4],\n",
              "       [7, 6, 8, 8],\n",
              "       [1, 6, 7, 7]])"
            ]
          },
          "metadata": {},
          "execution_count": 225
        }
      ]
    },
    {
      "cell_type": "code",
      "source": [
        "x2[0,0]"
      ],
      "metadata": {
        "colab": {
          "base_uri": "https://localhost:8080/"
        },
        "id": "ikIppFseIhMn",
        "outputId": "40631ec8-457a-4053-a801-99cc657aa9c7"
      },
      "execution_count": null,
      "outputs": [
        {
          "output_type": "execute_result",
          "data": {
            "text/plain": [
              "3"
            ]
          },
          "metadata": {},
          "execution_count": 226
        }
      ]
    },
    {
      "cell_type": "code",
      "source": [
        "x2[2,0]"
      ],
      "metadata": {
        "colab": {
          "base_uri": "https://localhost:8080/"
        },
        "id": "TqTTFhOQImZE",
        "outputId": "39818a00-36fa-4b18-8953-a212f2f75e9f"
      },
      "execution_count": null,
      "outputs": [
        {
          "output_type": "execute_result",
          "data": {
            "text/plain": [
              "1"
            ]
          },
          "metadata": {},
          "execution_count": 227
        }
      ]
    },
    {
      "cell_type": "code",
      "source": [
        "x2[2,-1]"
      ],
      "metadata": {
        "colab": {
          "base_uri": "https://localhost:8080/"
        },
        "id": "vY457pMgIsTY",
        "outputId": "d50fe3ae-0e67-43d4-83a3-0162c15f6966"
      },
      "execution_count": null,
      "outputs": [
        {
          "output_type": "execute_result",
          "data": {
            "text/plain": [
              "7"
            ]
          },
          "metadata": {},
          "execution_count": 228
        }
      ]
    },
    {
      "cell_type": "markdown",
      "source": [
        "Indexing can also be used to modify values at the indexed position."
      ],
      "metadata": {
        "id": "6_ijHYJ9IxXC"
      }
    },
    {
      "cell_type": "code",
      "source": [
        "x2[0,0]=12\n",
        "x2"
      ],
      "metadata": {
        "colab": {
          "base_uri": "https://localhost:8080/"
        },
        "id": "8xZRS6iyI6E3",
        "outputId": "041ec2da-8db6-496f-e7f3-2d995e9fefcb"
      },
      "execution_count": null,
      "outputs": [
        {
          "output_type": "execute_result",
          "data": {
            "text/plain": [
              "array([[12,  5,  2,  4],\n",
              "       [ 7,  6,  8,  8],\n",
              "       [ 1,  6,  7,  7]])"
            ]
          },
          "metadata": {},
          "execution_count": 229
        }
      ]
    },
    {
      "cell_type": "markdown",
      "source": [
        "CAVEAT: Unlike Python lists, NumPy arrays have a fixed type. This means,\n",
        "for example, that if you attempt to insert a floating-point value to an integer array, the value will be silently truncated. "
      ],
      "metadata": {
        "id": "qM1luI8fJKxS"
      }
    },
    {
      "cell_type": "code",
      "source": [
        "x1[0] = 3.14159 # this will be truncated to 3 (but not rounded)!\n",
        "x1"
      ],
      "metadata": {
        "colab": {
          "base_uri": "https://localhost:8080/"
        },
        "id": "Y_MksLklJQrC",
        "outputId": "ef3b93cf-6729-4513-b03e-94173d8e7e1c"
      },
      "execution_count": null,
      "outputs": [
        {
          "output_type": "execute_result",
          "data": {
            "text/plain": [
              "array([3, 0, 3, 3, 7, 9])"
            ]
          },
          "metadata": {},
          "execution_count": 230
        }
      ]
    },
    {
      "cell_type": "markdown",
      "source": [
        "### Array Slicing: Accessing Subarrays\n",
        "\n",
        "Slicing provides access to subarrays with the slice nottion, marked by the colon (:) character.\n",
        "\n",
        "x[start:stop:step]\n",
        "\n",
        "If any of these are unspecified, they default to the values start=0, stop=size of dimension, step=1."
      ],
      "metadata": {
        "id": "LQIIO6srJbYJ"
      }
    },
    {
      "cell_type": "code",
      "source": [
        "x = np.arange(10)\n",
        "x"
      ],
      "metadata": {
        "colab": {
          "base_uri": "https://localhost:8080/"
        },
        "id": "W4JhOBlvKE-M",
        "outputId": "2c9d92c5-4766-433c-b12b-f321ef0d14c8"
      },
      "execution_count": null,
      "outputs": [
        {
          "output_type": "execute_result",
          "data": {
            "text/plain": [
              "array([0, 1, 2, 3, 4, 5, 6, 7, 8, 9])"
            ]
          },
          "metadata": {},
          "execution_count": 231
        }
      ]
    },
    {
      "cell_type": "code",
      "source": [
        "x[:5] # first five elements"
      ],
      "metadata": {
        "colab": {
          "base_uri": "https://localhost:8080/"
        },
        "id": "LvfOSg0ZKMCB",
        "outputId": "eeb52ed5-22bf-46e3-9181-6a8a8dbd1b3b"
      },
      "execution_count": null,
      "outputs": [
        {
          "output_type": "execute_result",
          "data": {
            "text/plain": [
              "array([0, 1, 2, 3, 4])"
            ]
          },
          "metadata": {},
          "execution_count": 232
        }
      ]
    },
    {
      "cell_type": "code",
      "source": [
        "x[5:] # elements after index 5"
      ],
      "metadata": {
        "colab": {
          "base_uri": "https://localhost:8080/"
        },
        "id": "Err8HPzIKPTY",
        "outputId": "36397a7a-4a43-48ac-eb86-c94949d5a453"
      },
      "execution_count": null,
      "outputs": [
        {
          "output_type": "execute_result",
          "data": {
            "text/plain": [
              "array([5, 6, 7, 8, 9])"
            ]
          },
          "metadata": {},
          "execution_count": 233
        }
      ]
    },
    {
      "cell_type": "code",
      "source": [
        "x[5:] # elements after index 5"
      ],
      "metadata": {
        "colab": {
          "base_uri": "https://localhost:8080/"
        },
        "id": "3O4uCr_QKSh7",
        "outputId": "a8532503-3191-4b0b-beb5-c643d4868250"
      },
      "execution_count": null,
      "outputs": [
        {
          "output_type": "execute_result",
          "data": {
            "text/plain": [
              "array([5, 6, 7, 8, 9])"
            ]
          },
          "metadata": {},
          "execution_count": 234
        }
      ]
    },
    {
      "cell_type": "code",
      "source": [
        "x[4:7] # middle subarray"
      ],
      "metadata": {
        "colab": {
          "base_uri": "https://localhost:8080/"
        },
        "id": "Oo9Akbc3K_tL",
        "outputId": "0c12ac61-deb4-4e6d-ce26-f215d2dfaa88"
      },
      "execution_count": null,
      "outputs": [
        {
          "output_type": "execute_result",
          "data": {
            "text/plain": [
              "array([4, 5, 6])"
            ]
          },
          "metadata": {},
          "execution_count": 235
        }
      ]
    },
    {
      "cell_type": "code",
      "source": [
        "x[::2] # every other element"
      ],
      "metadata": {
        "colab": {
          "base_uri": "https://localhost:8080/"
        },
        "id": "MQ-whK1CLDSg",
        "outputId": "69ac4ae8-19a0-4db7-f314-274dff5d4010"
      },
      "execution_count": null,
      "outputs": [
        {
          "output_type": "execute_result",
          "data": {
            "text/plain": [
              "array([0, 2, 4, 6, 8])"
            ]
          },
          "metadata": {},
          "execution_count": 236
        }
      ]
    },
    {
      "cell_type": "code",
      "source": [
        "x[1::2] # every other element, starting at index 1"
      ],
      "metadata": {
        "colab": {
          "base_uri": "https://localhost:8080/"
        },
        "id": "OwaeVTClLHHo",
        "outputId": "1695fac4-4d06-4f51-8861-a65053a23aaa"
      },
      "execution_count": null,
      "outputs": [
        {
          "output_type": "execute_result",
          "data": {
            "text/plain": [
              "array([1, 3, 5, 7, 9])"
            ]
          },
          "metadata": {},
          "execution_count": 237
        }
      ]
    },
    {
      "cell_type": "markdown",
      "source": [
        "When the step value is negative, the\n",
        "defaults for start and stop are swapped. This becomes a convenient way to reverse\n",
        "an array."
      ],
      "metadata": {
        "id": "drJOECP2LT_w"
      }
    },
    {
      "cell_type": "code",
      "source": [
        "x[::-1] # all elements, reversed"
      ],
      "metadata": {
        "colab": {
          "base_uri": "https://localhost:8080/"
        },
        "id": "Xb8N8eByLaUP",
        "outputId": "6f7bfe87-5f85-4c33-d569-4ffeebcc8e91"
      },
      "execution_count": null,
      "outputs": [
        {
          "output_type": "execute_result",
          "data": {
            "text/plain": [
              "array([9, 8, 7, 6, 5, 4, 3, 2, 1, 0])"
            ]
          },
          "metadata": {},
          "execution_count": 238
        }
      ]
    },
    {
      "cell_type": "code",
      "source": [
        "x[5::-2] # reversed every other from index 5"
      ],
      "metadata": {
        "colab": {
          "base_uri": "https://localhost:8080/"
        },
        "id": "ydLW-jVdLew7",
        "outputId": "a6c6a2a0-bbda-4e2f-a9db-b8896ea9ab3b"
      },
      "execution_count": null,
      "outputs": [
        {
          "output_type": "execute_result",
          "data": {
            "text/plain": [
              "array([5, 3, 1])"
            ]
          },
          "metadata": {},
          "execution_count": 239
        }
      ]
    },
    {
      "cell_type": "markdown",
      "source": [
        "Multidimensional slices work in the same way, with multiple slices separated by commas."
      ],
      "metadata": {
        "id": "jYNMe6vVMpQv"
      }
    },
    {
      "cell_type": "code",
      "source": [
        "x2"
      ],
      "metadata": {
        "colab": {
          "base_uri": "https://localhost:8080/"
        },
        "id": "vj5hlQmzMrQ5",
        "outputId": "3a7fcbe1-4bb3-4ac0-f90a-e76e624317bb"
      },
      "execution_count": null,
      "outputs": [
        {
          "output_type": "execute_result",
          "data": {
            "text/plain": [
              "array([[12,  5,  2,  4],\n",
              "       [ 7,  6,  8,  8],\n",
              "       [ 1,  6,  7,  7]])"
            ]
          },
          "metadata": {},
          "execution_count": 240
        }
      ]
    },
    {
      "cell_type": "code",
      "source": [
        "x2[:2, :3] # two rows: until excluding row 2 counting from 0\n",
        "# three columns: until excluding column 3 counting from 0"
      ],
      "metadata": {
        "colab": {
          "base_uri": "https://localhost:8080/"
        },
        "id": "OOI8gJRpMsCR",
        "outputId": "6df5232a-bd67-4e66-ffef-a24d8e558f69"
      },
      "execution_count": null,
      "outputs": [
        {
          "output_type": "execute_result",
          "data": {
            "text/plain": [
              "array([[12,  5,  2],\n",
              "       [ 7,  6,  8]])"
            ]
          },
          "metadata": {},
          "execution_count": 241
        }
      ]
    },
    {
      "cell_type": "code",
      "source": [
        "x2[:3, ::2] # all rows, every other column"
      ],
      "metadata": {
        "colab": {
          "base_uri": "https://localhost:8080/"
        },
        "id": "Ye9PK0gKMxB0",
        "outputId": "6eec8b0f-f5dc-4eb5-a7d9-6cae6320e517"
      },
      "execution_count": null,
      "outputs": [
        {
          "output_type": "execute_result",
          "data": {
            "text/plain": [
              "array([[12,  2],\n",
              "       [ 7,  8],\n",
              "       [ 1,  7]])"
            ]
          },
          "metadata": {},
          "execution_count": 242
        }
      ]
    },
    {
      "cell_type": "code",
      "source": [
        "x2[::-1, ::-1] # subarray dimensions can even be reversed together"
      ],
      "metadata": {
        "colab": {
          "base_uri": "https://localhost:8080/"
        },
        "id": "XuozS-udNRQQ",
        "outputId": "36d3a5c1-3273-4633-96a9-37b290d83c96"
      },
      "execution_count": null,
      "outputs": [
        {
          "output_type": "execute_result",
          "data": {
            "text/plain": [
              "array([[ 7,  7,  6,  1],\n",
              "       [ 8,  8,  6,  7],\n",
              "       [ 4,  2,  5, 12]])"
            ]
          },
          "metadata": {},
          "execution_count": 243
        }
      ]
    },
    {
      "cell_type": "code",
      "source": [
        "print(x2[:, 0]) # whole first column of x2"
      ],
      "metadata": {
        "colab": {
          "base_uri": "https://localhost:8080/"
        },
        "id": "f3-K2ObPNfNv",
        "outputId": "05409433-65bb-4925-f4f8-67eaf2f355fc"
      },
      "execution_count": null,
      "outputs": [
        {
          "output_type": "stream",
          "name": "stdout",
          "text": [
            "[12  7  1]\n"
          ]
        }
      ]
    },
    {
      "cell_type": "code",
      "source": [
        "print(x2[0, :]) # whole first row of x2"
      ],
      "metadata": {
        "colab": {
          "base_uri": "https://localhost:8080/"
        },
        "id": "wBNGImM_NmI_",
        "outputId": "1c0a52c2-31dd-4752-867f-aca962789c99"
      },
      "execution_count": null,
      "outputs": [
        {
          "output_type": "stream",
          "name": "stdout",
          "text": [
            "[12  5  2  4]\n"
          ]
        }
      ]
    },
    {
      "cell_type": "code",
      "source": [
        "print(x2[0]) # equivalent to x2[0, :]"
      ],
      "metadata": {
        "colab": {
          "base_uri": "https://localhost:8080/"
        },
        "id": "xM0wKDjMNtqY",
        "outputId": "b99f0abe-d7c3-4a4a-8d76-ca499ac49b8c"
      },
      "execution_count": null,
      "outputs": [
        {
          "output_type": "stream",
          "name": "stdout",
          "text": [
            "[12  5  2  4]\n"
          ]
        }
      ]
    },
    {
      "cell_type": "markdown",
      "source": [
        "Array slices return views rather than copies of the array data. \n",
        "\n",
        "This default behavior means that when we work with large datasets, we can access and process pieces of these datasets without the need to copy the underlying data buffer."
      ],
      "metadata": {
        "id": "92CIxEuWN-gK"
      }
    },
    {
      "cell_type": "code",
      "source": [
        "x2"
      ],
      "metadata": {
        "colab": {
          "base_uri": "https://localhost:8080/"
        },
        "id": "ruoNkNFNOK02",
        "outputId": "adc685c9-390e-4dcd-ac6b-d2bfd30eaa4d"
      },
      "execution_count": null,
      "outputs": [
        {
          "output_type": "execute_result",
          "data": {
            "text/plain": [
              "array([[12,  5,  2,  4],\n",
              "       [ 7,  6,  8,  8],\n",
              "       [ 1,  6,  7,  7]])"
            ]
          },
          "metadata": {},
          "execution_count": 247
        }
      ]
    },
    {
      "cell_type": "code",
      "source": [
        "x2_sub = x2[:2, :2] # extract a 2×2 subarray from x2\n",
        "print(x2_sub)"
      ],
      "metadata": {
        "colab": {
          "base_uri": "https://localhost:8080/"
        },
        "id": "LlvqkeyROQoO",
        "outputId": "20b2e7d8-14d5-4480-b706-9286bfbca511"
      },
      "execution_count": null,
      "outputs": [
        {
          "output_type": "stream",
          "name": "stdout",
          "text": [
            "[[12  5]\n",
            " [ 7  6]]\n"
          ]
        }
      ]
    },
    {
      "cell_type": "code",
      "source": [
        "x2_sub[0, 0] = 99 # modify subarray\n",
        "print(x2_sub)"
      ],
      "metadata": {
        "colab": {
          "base_uri": "https://localhost:8080/"
        },
        "id": "yie1bTXaOiLt",
        "outputId": "89b4020f-f1e1-4085-e57a-45df082c1058"
      },
      "execution_count": null,
      "outputs": [
        {
          "output_type": "stream",
          "name": "stdout",
          "text": [
            "[[99  5]\n",
            " [ 7  6]]\n"
          ]
        }
      ]
    },
    {
      "cell_type": "code",
      "source": [
        "print(x2) # same modification in x2"
      ],
      "metadata": {
        "colab": {
          "base_uri": "https://localhost:8080/"
        },
        "id": "i38JAwMyOoLE",
        "outputId": "89a5849f-5149-411a-f756-e54b205ac3c5"
      },
      "execution_count": null,
      "outputs": [
        {
          "output_type": "stream",
          "name": "stdout",
          "text": [
            "[[99  5  2  4]\n",
            " [ 7  6  8  8]\n",
            " [ 1  6  7  7]]\n"
          ]
        }
      ]
    },
    {
      "cell_type": "markdown",
      "source": [
        "To explicitely copy the data within an array or subarray, copy() method can be used. Modifying the copied array will not affect the parent array."
      ],
      "metadata": {
        "id": "P300dqPNPFQk"
      }
    },
    {
      "cell_type": "code",
      "source": [
        "x2_sub_copy = x2[:2, :2].copy()\n",
        "print(x2_sub_copy)"
      ],
      "metadata": {
        "colab": {
          "base_uri": "https://localhost:8080/"
        },
        "id": "lL5jVrmQPQaG",
        "outputId": "dd23aded-9452-41d1-f817-7080dfd68282"
      },
      "execution_count": null,
      "outputs": [
        {
          "output_type": "stream",
          "name": "stdout",
          "text": [
            "[[99  5]\n",
            " [ 7  6]]\n"
          ]
        }
      ]
    },
    {
      "cell_type": "code",
      "source": [
        "x2_sub_copy[0, 0] = 42\n",
        "print(x2_sub_copy)"
      ],
      "metadata": {
        "colab": {
          "base_uri": "https://localhost:8080/"
        },
        "id": "dCMSFbhIPUt7",
        "outputId": "237d4bb3-e32e-401a-8208-b1f45c7cc1da"
      },
      "execution_count": null,
      "outputs": [
        {
          "output_type": "stream",
          "name": "stdout",
          "text": [
            "[[42  5]\n",
            " [ 7  6]]\n"
          ]
        }
      ]
    },
    {
      "cell_type": "code",
      "source": [
        "print(x2)"
      ],
      "metadata": {
        "colab": {
          "base_uri": "https://localhost:8080/"
        },
        "id": "wnEMvoDtPWGa",
        "outputId": "68919ada-31cd-44db-8691-40733db69b60"
      },
      "execution_count": null,
      "outputs": [
        {
          "output_type": "stream",
          "name": "stdout",
          "text": [
            "[[99  5  2  4]\n",
            " [ 7  6  8  8]\n",
            " [ 1  6  7  7]]\n"
          ]
        }
      ]
    },
    {
      "cell_type": "markdown",
      "source": [
        "### Array Reshaping\n",
        "\n",
        "The most flexible way of\n",
        "reshaping data is with the reshape() method.\n",
        "\n",
        "Another common reshaping pattern is the conversion of a one-dimensional array\n",
        "into a two-dimensional row or column matrix. This can be done by making use of the newaxis keyword within a slice operation."
      ],
      "metadata": {
        "id": "n8JiIhH2Pq1B"
      }
    },
    {
      "cell_type": "code",
      "source": [
        "# put the numbers 1 through 9 in a 3×3 grid\n",
        "grid = np.arange(1, 10).reshape((3, 3))\n",
        "print(grid)\n",
        "# note: sizes of initial array must match size of reshaped array"
      ],
      "metadata": {
        "colab": {
          "base_uri": "https://localhost:8080/"
        },
        "id": "NDD9BwydQWtT",
        "outputId": "6f36e51d-58a6-4286-ed27-3250b3ab9d3d"
      },
      "execution_count": null,
      "outputs": [
        {
          "output_type": "stream",
          "name": "stdout",
          "text": [
            "[[1 2 3]\n",
            " [4 5 6]\n",
            " [7 8 9]]\n"
          ]
        }
      ]
    },
    {
      "cell_type": "code",
      "source": [
        "x = np.array([1, 2, 3])\n",
        "\n",
        "# row vector via reshape\n",
        "x.reshape((1, 3))"
      ],
      "metadata": {
        "colab": {
          "base_uri": "https://localhost:8080/"
        },
        "id": "MHe5o9iBQ-dp",
        "outputId": "e6d1fa13-63ff-4579-bb7f-34349a2cbc6e"
      },
      "execution_count": null,
      "outputs": [
        {
          "output_type": "execute_result",
          "data": {
            "text/plain": [
              "array([[1, 2, 3]])"
            ]
          },
          "metadata": {},
          "execution_count": 255
        }
      ]
    },
    {
      "cell_type": "code",
      "source": [
        "# row vector via newaxis\n",
        "x[np.newaxis, :]"
      ],
      "metadata": {
        "colab": {
          "base_uri": "https://localhost:8080/"
        },
        "id": "Q4oCo13ERGUw",
        "outputId": "44776d86-f286-428b-cc6c-e310ddd8fb4c"
      },
      "execution_count": null,
      "outputs": [
        {
          "output_type": "execute_result",
          "data": {
            "text/plain": [
              "array([[1, 2, 3]])"
            ]
          },
          "metadata": {},
          "execution_count": 256
        }
      ]
    },
    {
      "cell_type": "code",
      "source": [
        "# column vector via reshape\n",
        "x.reshape((3, 1))"
      ],
      "metadata": {
        "colab": {
          "base_uri": "https://localhost:8080/"
        },
        "id": "-2W-pEDSRIa1",
        "outputId": "91ec729c-4a94-4e52-93a4-18d20f6969ce"
      },
      "execution_count": null,
      "outputs": [
        {
          "output_type": "execute_result",
          "data": {
            "text/plain": [
              "array([[1],\n",
              "       [2],\n",
              "       [3]])"
            ]
          },
          "metadata": {},
          "execution_count": 257
        }
      ]
    },
    {
      "cell_type": "markdown",
      "source": [
        "### Array Concatenation and Splitting\n",
        "\n",
        "Concatenation, or joining of two arrays in NumPy, is primarily accomplished\n",
        "through the routines np.concatenate, np.vstack, and np.hstack."
      ],
      "metadata": {
        "id": "iraT51kgR7a0"
      }
    },
    {
      "cell_type": "code",
      "source": [
        "# np.concatenate takes a tuple or list of arrays as its first argument\n",
        "\n",
        "x = np.array([1, 2, 3])\n",
        "y = np.array([3, 2, 1])\n",
        "np.concatenate([x, y])"
      ],
      "metadata": {
        "colab": {
          "base_uri": "https://localhost:8080/"
        },
        "id": "lUG7nQtOSJCk",
        "outputId": "d1868f96-8cfb-41a5-a3b4-620243369d8d"
      },
      "execution_count": null,
      "outputs": [
        {
          "output_type": "execute_result",
          "data": {
            "text/plain": [
              "array([1, 2, 3, 3, 2, 1])"
            ]
          },
          "metadata": {},
          "execution_count": 258
        }
      ]
    },
    {
      "cell_type": "code",
      "source": [
        "# concatenate more than two arrays at once\n",
        "z = [99, 99, 99]\n",
        "print(np.concatenate([x, y, z]))"
      ],
      "metadata": {
        "colab": {
          "base_uri": "https://localhost:8080/"
        },
        "id": "L-sVnfH-SQOc",
        "outputId": "84e074aa-f141-4f82-8489-0adfccd50e36"
      },
      "execution_count": null,
      "outputs": [
        {
          "output_type": "stream",
          "name": "stdout",
          "text": [
            "[ 1  2  3  3  2  1 99 99 99]\n"
          ]
        }
      ]
    },
    {
      "cell_type": "markdown",
      "source": [
        "np concatenate \"stacks\" NumPy arrays vertically or horizontally."
      ],
      "metadata": {
        "id": "tKSt9CzkWP_Z"
      }
    },
    {
      "cell_type": "code",
      "source": [
        "# np concatenate on two-dimensional arrays\n",
        "grid = np.array([[1, 2, 3],\n",
        "                 [4, 5, 6]])"
      ],
      "metadata": {
        "id": "jWPItFIRSaNt"
      },
      "execution_count": null,
      "outputs": []
    },
    {
      "cell_type": "code",
      "source": [
        "# concatenate along the first axis: axis=0 (default)\n",
        "# axis=0 is the direction running vertically down the rows\n",
        "np.concatenate([grid, grid])"
      ],
      "metadata": {
        "colab": {
          "base_uri": "https://localhost:8080/"
        },
        "id": "h_a5nHtiSa4I",
        "outputId": "925d8c22-7f33-43e5-c6a2-a7aeab5a2ab4"
      },
      "execution_count": null,
      "outputs": [
        {
          "output_type": "execute_result",
          "data": {
            "text/plain": [
              "array([[1, 2, 3],\n",
              "       [4, 5, 6],\n",
              "       [1, 2, 3],\n",
              "       [4, 5, 6]])"
            ]
          },
          "metadata": {},
          "execution_count": 261
        }
      ]
    },
    {
      "cell_type": "code",
      "source": [
        "# concatenate along the second axis (zero-indexed): axis=1\n",
        "#  axis=1 is the direction running horizontally across the columns\n",
        "np.concatenate([grid, grid], axis=1)"
      ],
      "metadata": {
        "colab": {
          "base_uri": "https://localhost:8080/"
        },
        "id": "YSkhL28uSi0d",
        "outputId": "67063123-5eff-4a56-bc79-71f6ae018d54"
      },
      "execution_count": null,
      "outputs": [
        {
          "output_type": "execute_result",
          "data": {
            "text/plain": [
              "array([[1, 2, 3, 1, 2, 3],\n",
              "       [4, 5, 6, 4, 5, 6]])"
            ]
          },
          "metadata": {},
          "execution_count": 262
        }
      ]
    },
    {
      "cell_type": "markdown",
      "source": [
        "For working with arrays of mixed dimensions, it can be clearer to use the np.vstack (vertical stack) and np.hstack (horizontal stack) functions."
      ],
      "metadata": {
        "id": "W3SGHj2CWz6L"
      }
    },
    {
      "cell_type": "code",
      "source": [
        "x = np.array([1, 2, 3])\n",
        "grid = np.array([[9, 8, 7],\n",
        "[6, 5, 4]])\n",
        "# vertically stack the arrays\n",
        "np.vstack([x, grid])"
      ],
      "metadata": {
        "colab": {
          "base_uri": "https://localhost:8080/"
        },
        "id": "NdZhzBwoW3xV",
        "outputId": "f949aaff-0fa1-498c-d824-af61c064885f"
      },
      "execution_count": null,
      "outputs": [
        {
          "output_type": "execute_result",
          "data": {
            "text/plain": [
              "array([[1, 2, 3],\n",
              "       [9, 8, 7],\n",
              "       [6, 5, 4]])"
            ]
          },
          "metadata": {},
          "execution_count": 263
        }
      ]
    },
    {
      "cell_type": "code",
      "source": [
        "# horizontally stack the arrays\n",
        "y = np.array([[99],\n",
        "[99]])\n",
        "np.hstack([grid, y])"
      ],
      "metadata": {
        "colab": {
          "base_uri": "https://localhost:8080/"
        },
        "id": "AXQLa1fcXuCJ",
        "outputId": "8cd9ca92-cdfb-4eac-9299-84951ec98175"
      },
      "execution_count": null,
      "outputs": [
        {
          "output_type": "execute_result",
          "data": {
            "text/plain": [
              "array([[ 9,  8,  7, 99],\n",
              "       [ 6,  5,  4, 99]])"
            ]
          },
          "metadata": {},
          "execution_count": 264
        }
      ]
    },
    {
      "cell_type": "markdown",
      "source": [
        "np.dstack will stack arrays along the third axis.\n",
        "\n",
        "The opposite of concatenation is splitting, which is implemented by the functions np.split, np.hsplit, and np.vsplit. For each of these, a list of indices giving the split points is passed."
      ],
      "metadata": {
        "id": "IoidumzIX3qp"
      }
    },
    {
      "cell_type": "code",
      "source": [
        "x = [1, 2, 3, 99, 99, 3, 2, 1]\n",
        "# N split points lead to N + 1 subarrays\n",
        "x1, x2, x3 = np.split(x, [3, 5])\n",
        "print(x1, x2, x3)"
      ],
      "metadata": {
        "colab": {
          "base_uri": "https://localhost:8080/"
        },
        "id": "JSEyaalnYFf2",
        "outputId": "07bcf1ba-a3bf-4113-880a-8a4562422f44"
      },
      "execution_count": null,
      "outputs": [
        {
          "output_type": "stream",
          "name": "stdout",
          "text": [
            "[1 2 3] [99 99] [3 2 1]\n"
          ]
        }
      ]
    },
    {
      "cell_type": "code",
      "source": [
        "grid = np.arange(16).reshape((4, 4))\n",
        "grid"
      ],
      "metadata": {
        "colab": {
          "base_uri": "https://localhost:8080/"
        },
        "id": "2bsrzGf0YRWR",
        "outputId": "8306d460-3e27-49d3-b32f-0252fbe3cde0"
      },
      "execution_count": null,
      "outputs": [
        {
          "output_type": "execute_result",
          "data": {
            "text/plain": [
              "array([[ 0,  1,  2,  3],\n",
              "       [ 4,  5,  6,  7],\n",
              "       [ 8,  9, 10, 11],\n",
              "       [12, 13, 14, 15]])"
            ]
          },
          "metadata": {},
          "execution_count": 266
        }
      ]
    },
    {
      "cell_type": "code",
      "source": [
        "# vertical split\n",
        "upper, lower = np.vsplit(grid, [2])\n",
        "print(upper)\n",
        "print(lower)"
      ],
      "metadata": {
        "colab": {
          "base_uri": "https://localhost:8080/"
        },
        "id": "MmNkChVIYVvs",
        "outputId": "dfe02642-87a9-4f77-9b58-0015995473f2"
      },
      "execution_count": null,
      "outputs": [
        {
          "output_type": "stream",
          "name": "stdout",
          "text": [
            "[[0 1 2 3]\n",
            " [4 5 6 7]]\n",
            "[[ 8  9 10 11]\n",
            " [12 13 14 15]]\n"
          ]
        }
      ]
    },
    {
      "cell_type": "code",
      "source": [
        "# horizontal split\n",
        "left, right = np.hsplit(grid, [2])\n",
        "print(left)\n",
        "print(right)"
      ],
      "metadata": {
        "colab": {
          "base_uri": "https://localhost:8080/"
        },
        "id": "c3P7_Nj_Y0BN",
        "outputId": "a388dafb-50fa-4e4a-db3e-8c151574257a"
      },
      "execution_count": null,
      "outputs": [
        {
          "output_type": "stream",
          "name": "stdout",
          "text": [
            "[[ 0  1]\n",
            " [ 4  5]\n",
            " [ 8  9]\n",
            " [12 13]]\n",
            "[[ 2  3]\n",
            " [ 6  7]\n",
            " [10 11]\n",
            " [14 15]]\n"
          ]
        }
      ]
    },
    {
      "cell_type": "markdown",
      "source": [
        "np.dsplit will split arrays along the third axis.\n",
        "\n",
        "## Computation on NumPy Arrays\n",
        "\n",
        "Computation on NumPy arrays can be very fast, or it can be very slow. The key to making it fast is to use **vectorised operations**, generally implemented through NumPy’s universal functions (ufuncs). Vectorised functions push the loop into the compiled layer that underlies NumPy. Thereby, when performing an operation on the array, it will be applied to each element.\n",
        "\n",
        "The reason for this is that Python is very slow when computing loops. This is in part due to the dynamic, interpreted nature of the language: the fact that types are flexible, so that sequences of operations cannot be compiled down to efficient machine code.\n",
        "\n"
      ],
      "metadata": {
        "id": "LqFhGS0tZArR"
      }
    },
    {
      "cell_type": "code",
      "source": [
        "np.arange(5) / np.arange(1, 6)"
      ],
      "metadata": {
        "colab": {
          "base_uri": "https://localhost:8080/"
        },
        "id": "wXUIzJ-yhtWR",
        "outputId": "58643fee-9175-4943-9dba-ac121a510262"
      },
      "execution_count": null,
      "outputs": [
        {
          "output_type": "execute_result",
          "data": {
            "text/plain": [
              "array([0.        , 0.5       , 0.66666667, 0.75      , 0.8       ])"
            ]
          },
          "metadata": {},
          "execution_count": 269
        }
      ]
    },
    {
      "cell_type": "markdown",
      "source": [
        "Unary ufuncs operate on a single input, and binary\n",
        "ufuncs operate on two inputs."
      ],
      "metadata": {
        "id": "uQzrpugJh8Q-"
      }
    },
    {
      "cell_type": "code",
      "source": [
        "# standard addition, subtraction, multiplication, and division \n",
        "# using operators\n",
        "x = np.arange(4)\n",
        "print(\"x =\", x)\n",
        "print(\"x + 5 =\", x + 5)\n",
        "print(\"x - 5 =\", x - 5)\n",
        "print(\"x * 2 =\", x * 2)\n",
        "print(\"x / 2 =\", x / 2)\n",
        "print(\"x // 2 =\", x // 2) # floor division"
      ],
      "metadata": {
        "colab": {
          "base_uri": "https://localhost:8080/"
        },
        "id": "9YIMLI1uhwDl",
        "outputId": "23852967-99a9-42f1-a1d7-4947e19fbe95"
      },
      "execution_count": null,
      "outputs": [
        {
          "output_type": "stream",
          "name": "stdout",
          "text": [
            "x = [0 1 2 3]\n",
            "x + 5 = [5 6 7 8]\n",
            "x - 5 = [-5 -4 -3 -2]\n",
            "x * 2 = [0 2 4 6]\n",
            "x / 2 = [0.  0.5 1.  1.5]\n",
            "x // 2 = [0 0 1 1]\n"
          ]
        }
      ]
    },
    {
      "cell_type": "code",
      "source": [
        "# negation, exponentiation, and modulus\n",
        "print(\"-x = \", -x)\n",
        "print(\"x ** 2 = \", x ** 2)\n",
        "print(\"x % 2 = \", x % 2)"
      ],
      "metadata": {
        "colab": {
          "base_uri": "https://localhost:8080/"
        },
        "id": "BbCzmArrhuh8",
        "outputId": "923b5048-6813-43d5-d2c3-e186efe111cb"
      },
      "execution_count": null,
      "outputs": [
        {
          "output_type": "stream",
          "name": "stdout",
          "text": [
            "-x =  [ 0 -1 -2 -3]\n",
            "x ** 2 =  [0 1 4 9]\n",
            "x % 2 =  [0 1 0 1]\n"
          ]
        }
      ]
    },
    {
      "cell_type": "code",
      "source": [
        "# functions in NumPy implementing arithmetic operators\n",
        "np.add(x, 2)"
      ],
      "metadata": {
        "colab": {
          "base_uri": "https://localhost:8080/"
        },
        "id": "q4X_X83Di0yk",
        "outputId": "e1d968f0-90c0-4d31-c60f-aa8f60561bf5"
      },
      "execution_count": null,
      "outputs": [
        {
          "output_type": "execute_result",
          "data": {
            "text/plain": [
              "array([2, 3, 4, 5])"
            ]
          },
          "metadata": {},
          "execution_count": 272
        }
      ]
    },
    {
      "cell_type": "markdown",
      "source": [
        "The following table lists the arithmetic operators implemented in NumPy:\n",
        "\n",
        "| Operator\t    | Equivalent ufunc    | Description                           |\n",
        "|---------------|---------------------|---------------------------------------|\n",
        "|``+``          |``np.add``           |Addition (e.g., ``1 + 1 = 2``)         |\n",
        "|``-``          |``np.subtract``      |Subtraction (e.g., ``3 - 2 = 1``)      |\n",
        "|``-``          |``np.negative``      |Unary negation (e.g., ``-2``)          |\n",
        "|``*``          |``np.multiply``      |Multiplication (e.g., ``2 * 3 = 6``)   |\n",
        "|``/``          |``np.divide``        |Division (e.g., ``3 / 2 = 1.5``)       |\n",
        "|``//``         |``np.floor_divide``  |Floor division (e.g., ``3 // 2 = 1``)  |\n",
        "|``**``         |``np.power``         |Exponentiation (e.g., ``2 ** 3 = 8``)  |\n",
        "|``%``          |``np.mod``           |Modulus/remainder (e.g., ``9 % 4 = 1``)|\n"
      ],
      "metadata": {
        "id": "30ekWsZyjKR1"
      }
    },
    {
      "cell_type": "markdown",
      "source": [
        "To determine the absolute value, built-in and np functions can be used."
      ],
      "metadata": {
        "id": "PGYKRk5olGD1"
      }
    },
    {
      "cell_type": "code",
      "source": [
        "x = np.array([-2, -1, 0, 1, 2])\n",
        "abs(x)"
      ],
      "metadata": {
        "colab": {
          "base_uri": "https://localhost:8080/"
        },
        "id": "sT6LUuO5kuSj",
        "outputId": "b0f0cd09-8c82-48cb-fc5d-d6297fa1d08b"
      },
      "execution_count": null,
      "outputs": [
        {
          "output_type": "execute_result",
          "data": {
            "text/plain": [
              "array([2, 1, 0, 1, 2])"
            ]
          },
          "metadata": {},
          "execution_count": 273
        }
      ]
    },
    {
      "cell_type": "code",
      "source": [
        "# corresponding NumPy ufunc is np.absolute (alias np.abs)\n",
        "np.absolute(x)"
      ],
      "metadata": {
        "colab": {
          "base_uri": "https://localhost:8080/"
        },
        "id": "ppSZAhUpk0qr",
        "outputId": "4fa6e914-e846-4bcd-dc82-4f1ca7d42ef0"
      },
      "execution_count": null,
      "outputs": [
        {
          "output_type": "execute_result",
          "data": {
            "text/plain": [
              "array([2, 1, 0, 1, 2])"
            ]
          },
          "metadata": {},
          "execution_count": 274
        }
      ]
    },
    {
      "cell_type": "markdown",
      "source": [
        "NumPy also provides the trigonometric functions."
      ],
      "metadata": {
        "id": "I0iWEJrplMK7"
      }
    },
    {
      "cell_type": "code",
      "source": [
        "theta = np.linspace(0, np.pi, 3)"
      ],
      "metadata": {
        "id": "bQkpJYj-lXHa"
      },
      "execution_count": null,
      "outputs": []
    },
    {
      "cell_type": "code",
      "source": [
        "# compute some trigonometric functions on these values\n",
        "print(\"theta = \", theta)\n",
        "print(\"sin(theta) = \", np.sin(theta))\n",
        "print(\"cos(theta) = \", np.cos(theta))\n",
        "print(\"tan(theta) = \", np.tan(theta))"
      ],
      "metadata": {
        "colab": {
          "base_uri": "https://localhost:8080/"
        },
        "id": "FfngY-Owlcln",
        "outputId": "3d694d0b-424c-45e8-9753-acb06a3f6fa1"
      },
      "execution_count": null,
      "outputs": [
        {
          "output_type": "stream",
          "name": "stdout",
          "text": [
            "theta =  [0.         1.57079633 3.14159265]\n",
            "sin(theta) =  [0.0000000e+00 1.0000000e+00 1.2246468e-16]\n",
            "cos(theta) =  [ 1.000000e+00  6.123234e-17 -1.000000e+00]\n",
            "tan(theta) =  [ 0.00000000e+00  1.63312394e+16 -1.22464680e-16]\n"
          ]
        }
      ]
    },
    {
      "cell_type": "code",
      "source": [
        "# Inverse trigonometric functions\n",
        "x = [-1, 0, 1]\n",
        "print(\"x = \", x)\n",
        "print(\"arcsin(x) = \", np.arcsin(x))\n",
        "print(\"arccos(x) = \", np.arccos(x))\n",
        "print(\"arctan(x) = \", np.arctan(x))"
      ],
      "metadata": {
        "colab": {
          "base_uri": "https://localhost:8080/"
        },
        "id": "fF7RzxzwmYeT",
        "outputId": "3d3d64f1-137d-4d77-edf0-151f7eb9cf57"
      },
      "execution_count": null,
      "outputs": [
        {
          "output_type": "stream",
          "name": "stdout",
          "text": [
            "x =  [-1, 0, 1]\n",
            "arcsin(x) =  [-1.57079633  0.          1.57079633]\n",
            "arccos(x) =  [3.14159265 1.57079633 0.        ]\n",
            "arctan(x) =  [-0.78539816  0.          0.78539816]\n"
          ]
        }
      ]
    },
    {
      "cell_type": "markdown",
      "source": [
        "Another common type of operation available in a NumPy ufunc are the exponentials and logarithms."
      ],
      "metadata": {
        "id": "IhWAu57OmjgO"
      }
    },
    {
      "cell_type": "code",
      "source": [
        "# exponentials\n",
        "x = [1, 2, 3]\n",
        "print(\"x =\", x)\n",
        "print(\"e^x =\", np.exp(x))\n",
        "print(\"2^x =\", np.exp2(x))\n",
        "print(\"3^x =\", np.power(3, x))"
      ],
      "metadata": {
        "colab": {
          "base_uri": "https://localhost:8080/"
        },
        "id": "9JG_rmnsmi2o",
        "outputId": "7718df91-c0fa-4859-c3b3-a2e6b1919b0d"
      },
      "execution_count": null,
      "outputs": [
        {
          "output_type": "stream",
          "name": "stdout",
          "text": [
            "x = [1, 2, 3]\n",
            "e^x = [ 2.71828183  7.3890561  20.08553692]\n",
            "2^x = [2. 4. 8.]\n",
            "3^x = [ 3  9 27]\n"
          ]
        }
      ]
    },
    {
      "cell_type": "code",
      "source": [
        "# logarithms\n",
        "x = [1, 2, 4, 10]\n",
        "print(\"x =\", x)\n",
        "print(\"ln(x) =\", np.log(x)) # natural logarithm\n",
        "print(\"log2(x) =\", np.log2(x)) # base-2\n",
        "print(\"log10(x) =\", np.log10(x)) # base-10"
      ],
      "metadata": {
        "colab": {
          "base_uri": "https://localhost:8080/"
        },
        "id": "1pRC738emriB",
        "outputId": "b7e201a5-de66-4f45-88bb-2d445c9bf06a"
      },
      "execution_count": null,
      "outputs": [
        {
          "output_type": "stream",
          "name": "stdout",
          "text": [
            "x = [1, 2, 4, 10]\n",
            "ln(x) = [0.         0.69314718 1.38629436 2.30258509]\n",
            "log2(x) = [0.         1.         2.         3.32192809]\n",
            "log10(x) = [0.         0.30103    0.60205999 1.        ]\n"
          ]
        }
      ]
    },
    {
      "cell_type": "code",
      "source": [
        "# specialized versions useful for maintaining precision with small input\n",
        "x = [0, 0.001, 0.01, 0.1]\n",
        "print(\"exp(x) - 1 =\", np.expm1(x))\n",
        "print(\"log(1 + x) =\", np.log1p(x))"
      ],
      "metadata": {
        "colab": {
          "base_uri": "https://localhost:8080/"
        },
        "id": "-Q-SGncTnPKj",
        "outputId": "a23f2750-0028-4d02-dddd-39c3a00f2c98"
      },
      "execution_count": null,
      "outputs": [
        {
          "output_type": "stream",
          "name": "stdout",
          "text": [
            "exp(x) - 1 = [0.         0.0010005  0.01005017 0.10517092]\n",
            "log(1 + x) = [0.         0.0009995  0.00995033 0.09531018]\n"
          ]
        }
      ]
    },
    {
      "cell_type": "markdown",
      "source": [
        "NumPy has many more ufuncs available, including hyperbolic trig functions, bitwise arithmetic, comparison operators, conversions from radians to degrees, rounding and\n",
        "remainders, and much more (see NumPy documentation for details).\n",
        "\n",
        "Another excellent source for more specialized and obscure ufuncs is the submodule *scipy.special*.\n",
        "\n",
        "For large calculations, it is sometimes useful to be able to specify the array where the\n",
        "result of the calculation will be stored to save results of computation directly to memory. "
      ],
      "metadata": {
        "id": "RpjdYIf1nyij"
      }
    },
    {
      "cell_type": "code",
      "source": [
        "x = np.arange(5)\n",
        "y = np.empty(5)\n",
        "np.multiply(x, 10, out=y)\n",
        "print(y)"
      ],
      "metadata": {
        "colab": {
          "base_uri": "https://localhost:8080/"
        },
        "id": "pAaEwU9ioLLS",
        "outputId": "e52a2b06-80f6-4fd5-a1bd-f1113bc57bdb"
      },
      "execution_count": null,
      "outputs": [
        {
          "output_type": "stream",
          "name": "stdout",
          "text": [
            "[ 0. 10. 20. 30. 40.]\n"
          ]
        }
      ]
    },
    {
      "cell_type": "code",
      "source": [
        "# write the results of computation to every other element of a specified array\n",
        "y = np.zeros(10)\n",
        "np.power(2, x, out=y[::2])\n",
        "print(y)"
      ],
      "metadata": {
        "colab": {
          "base_uri": "https://localhost:8080/"
        },
        "id": "rM-RDOYyo4n_",
        "outputId": "f55e506f-beed-4ab2-c2dd-19df01709ad3"
      },
      "execution_count": null,
      "outputs": [
        {
          "output_type": "stream",
          "name": "stdout",
          "text": [
            "[ 1.  0.  2.  0.  4.  0.  8.  0. 16.  0.]\n"
          ]
        }
      ]
    },
    {
      "cell_type": "markdown",
      "source": [
        "For binary ufuncs, there are some interesting aggregates that can be computed directly from the object.\n",
        "\n",
        "For example, if we’d like to reduce an array with a particular operation, we can use the reduce method of any ufunc. A reduce repeatedly applies a given operation to the elements of an array until only a single result remains."
      ],
      "metadata": {
        "id": "MvADdnkr0VxM"
      }
    },
    {
      "cell_type": "code",
      "source": [
        "x = np.arange(1, 6)\n",
        "# calling reduce on the add ufunc returns the sum of all elements in the array\n",
        "np.add.reduce(x)"
      ],
      "metadata": {
        "colab": {
          "base_uri": "https://localhost:8080/"
        },
        "id": "1kSaoi5T0fSS",
        "outputId": "73f0d3db-c721-481e-c84c-f9e112cad878"
      },
      "execution_count": null,
      "outputs": [
        {
          "output_type": "execute_result",
          "data": {
            "text/plain": [
              "15"
            ]
          },
          "metadata": {},
          "execution_count": 283
        }
      ]
    },
    {
      "cell_type": "code",
      "source": [
        "# results in the product of all array elements\n",
        "np.multiply.reduce(x)"
      ],
      "metadata": {
        "colab": {
          "base_uri": "https://localhost:8080/"
        },
        "id": "Czu5Vrhz0vHX",
        "outputId": "74be04f5-e013-4120-df2d-1f49af733921"
      },
      "execution_count": null,
      "outputs": [
        {
          "output_type": "execute_result",
          "data": {
            "text/plain": [
              "120"
            ]
          },
          "metadata": {},
          "execution_count": 284
        }
      ]
    },
    {
      "cell_type": "code",
      "source": [
        "# to store all the intermediate results of the computation\n",
        "np.add.accumulate(x)"
      ],
      "metadata": {
        "colab": {
          "base_uri": "https://localhost:8080/"
        },
        "id": "0EUchfSw07jl",
        "outputId": "7a34d663-e96c-4f5e-94eb-a805dbd489fa"
      },
      "execution_count": null,
      "outputs": [
        {
          "output_type": "execute_result",
          "data": {
            "text/plain": [
              "array([ 1,  3,  6, 10, 15])"
            ]
          },
          "metadata": {},
          "execution_count": 285
        }
      ]
    },
    {
      "cell_type": "code",
      "source": [
        "np.multiply.accumulate(x)"
      ],
      "metadata": {
        "colab": {
          "base_uri": "https://localhost:8080/"
        },
        "id": "7YUL1nvG1LP6",
        "outputId": "31375e42-8fd3-4fdd-c0e0-09ef3983415e"
      },
      "execution_count": null,
      "outputs": [
        {
          "output_type": "execute_result",
          "data": {
            "text/plain": [
              "array([  1,   2,   6,  24, 120])"
            ]
          },
          "metadata": {},
          "execution_count": 286
        }
      ]
    },
    {
      "cell_type": "markdown",
      "source": [
        "Any ufunc can compute the output of all pairs of two different inputs using the outer method."
      ],
      "metadata": {
        "id": "7bK5UEtg1U1R"
      }
    },
    {
      "cell_type": "code",
      "source": [
        "x = np.arange(1, 6)\n",
        "np.multiply.outer(x, x)"
      ],
      "metadata": {
        "colab": {
          "base_uri": "https://localhost:8080/"
        },
        "id": "eXjl54rL1ag5",
        "outputId": "c21c45ae-19dd-444d-edea-d40bfcb73138"
      },
      "execution_count": null,
      "outputs": [
        {
          "output_type": "execute_result",
          "data": {
            "text/plain": [
              "array([[ 1,  2,  3,  4,  5],\n",
              "       [ 2,  4,  6,  8, 10],\n",
              "       [ 3,  6,  9, 12, 15],\n",
              "       [ 4,  8, 12, 16, 20],\n",
              "       [ 5, 10, 15, 20, 25]])"
            ]
          },
          "metadata": {},
          "execution_count": 287
        }
      ]
    },
    {
      "cell_type": "markdown",
      "source": [
        "## Aggregations: Min, Max, and Everything in Between\n",
        "\n",
        "NumPy can be used to compute summary statistics.\n",
        "\n",
        "For instance, to compute the sum of an array, the built-in function sum or np.sum can be used.\n",
        "\n",
        "However, np.sum is quicker because it executes compiled code."
      ],
      "metadata": {
        "id": "98RO311g1rRk"
      }
    },
    {
      "cell_type": "code",
      "source": [
        "L = np.random.random(100)\n",
        "sum(L)"
      ],
      "metadata": {
        "colab": {
          "base_uri": "https://localhost:8080/"
        },
        "id": "I6xZYhHw6JET",
        "outputId": "2ae9b083-81f0-40eb-ed82-081e9c6891ef"
      },
      "execution_count": null,
      "outputs": [
        {
          "output_type": "execute_result",
          "data": {
            "text/plain": [
              "52.12818058833704"
            ]
          },
          "metadata": {},
          "execution_count": 288
        }
      ]
    },
    {
      "cell_type": "code",
      "source": [
        "np.sum(L)"
      ],
      "metadata": {
        "colab": {
          "base_uri": "https://localhost:8080/"
        },
        "id": "X4AOHyil6KUo",
        "outputId": "288d71d8-f21a-420e-83c1-f8c8a5673c13"
      },
      "execution_count": null,
      "outputs": [
        {
          "output_type": "execute_result",
          "data": {
            "text/plain": [
              "52.12818058833702"
            ]
          },
          "metadata": {},
          "execution_count": 289
        }
      ]
    },
    {
      "cell_type": "code",
      "source": [
        "big_array = np.random.rand(1000000)\n",
        "%timeit sum(big_array)\n",
        "%timeit np.sum(big_array)"
      ],
      "metadata": {
        "colab": {
          "base_uri": "https://localhost:8080/"
        },
        "id": "jEQdiq7g7A9x",
        "outputId": "320511e6-8af1-4d26-c906-8c0f36b31cf1"
      },
      "execution_count": null,
      "outputs": [
        {
          "output_type": "stream",
          "name": "stdout",
          "text": [
            "89 ms ± 2.37 ms per loop (mean ± std. dev. of 7 runs, 10 loops each)\n",
            "389 µs ± 16.5 µs per loop (mean ± std. dev. of 7 runs, 1000 loops each)\n"
          ]
        }
      ]
    },
    {
      "cell_type": "markdown",
      "source": [
        "Python has built-in min and max functions, used to find the minimum value and maximum value of any given array."
      ],
      "metadata": {
        "id": "_A6C80rE59gF"
      }
    },
    {
      "cell_type": "code",
      "source": [
        "min(big_array), max(big_array)"
      ],
      "metadata": {
        "colab": {
          "base_uri": "https://localhost:8080/"
        },
        "id": "km851Szx7Zhd",
        "outputId": "49ebfdd6-414b-4057-f14c-3d9f22b6a87e"
      },
      "execution_count": null,
      "outputs": [
        {
          "output_type": "execute_result",
          "data": {
            "text/plain": [
              "(1.4057692298008462e-06, 0.9999994392723005)"
            ]
          },
          "metadata": {},
          "execution_count": 291
        }
      ]
    },
    {
      "cell_type": "markdown",
      "source": [
        "NumPy’s corresponding functions have similar syntax and operate quicker."
      ],
      "metadata": {
        "id": "5niArmOO7nV0"
      }
    },
    {
      "cell_type": "code",
      "source": [
        "np.min(big_array), np.max(big_array)"
      ],
      "metadata": {
        "colab": {
          "base_uri": "https://localhost:8080/"
        },
        "id": "Qcf6gxub7ksg",
        "outputId": "c9a7c00a-ee75-40ff-89aa-7d2b2794cca5"
      },
      "execution_count": null,
      "outputs": [
        {
          "output_type": "execute_result",
          "data": {
            "text/plain": [
              "(1.4057692298008462e-06, 0.9999994392723005)"
            ]
          },
          "metadata": {},
          "execution_count": 292
        }
      ]
    },
    {
      "cell_type": "code",
      "source": [
        "%timeit min(big_array)\n",
        "%timeit np.min(big_array)"
      ],
      "metadata": {
        "colab": {
          "base_uri": "https://localhost:8080/"
        },
        "id": "lJs3nfb77yuu",
        "outputId": "27191119-061d-4f66-bbae-f37ade39790f"
      },
      "execution_count": null,
      "outputs": [
        {
          "output_type": "stream",
          "name": "stdout",
          "text": [
            "60.2 ms ± 1.38 ms per loop (mean ± std. dev. of 7 runs, 10 loops each)\n",
            "424 µs ± 4.39 µs per loop (mean ± std. dev. of 7 runs, 1000 loops each)\n"
          ]
        }
      ]
    },
    {
      "cell_type": "markdown",
      "source": [
        "For min, max, sum, and several other NumPy aggregates, a shorter syntax is to use methods of the array object itself."
      ],
      "metadata": {
        "id": "UU4wgwI377r6"
      }
    },
    {
      "cell_type": "code",
      "source": [
        "print(big_array.min(), big_array.max(), big_array.sum())"
      ],
      "metadata": {
        "colab": {
          "base_uri": "https://localhost:8080/"
        },
        "id": "xzL0TUdN7-s1",
        "outputId": "73f56e57-a192-4030-ddc2-80f565fe2662"
      },
      "execution_count": null,
      "outputs": [
        {
          "output_type": "stream",
          "name": "stdout",
          "text": [
            "1.4057692298008462e-06 0.9999994392723005 500202.5348847683\n"
          ]
        }
      ]
    },
    {
      "cell_type": "markdown",
      "source": [
        "Aggregatiuon is possible along rows or columns. By default, each NumPy aggregation function will return the aggregate over the entire array.\n",
        "\n"
      ],
      "metadata": {
        "id": "Dnonnwb995Qc"
      }
    },
    {
      "cell_type": "code",
      "source": [
        "M = np.random.random((3, 4))\n",
        "print(M)"
      ],
      "metadata": {
        "colab": {
          "base_uri": "https://localhost:8080/"
        },
        "id": "weadb2mT94xs",
        "outputId": "9ffbd04a-f96b-4312-c6c9-f5f9fb124450"
      },
      "execution_count": null,
      "outputs": [
        {
          "output_type": "stream",
          "name": "stdout",
          "text": [
            "[[0.50063048 0.07383653 0.49018646 0.72521956]\n",
            " [0.84926562 0.10226215 0.99559424 0.59250301]\n",
            " [0.53509    0.88518089 0.25518136 0.13130483]]\n"
          ]
        }
      ]
    },
    {
      "cell_type": "code",
      "source": [
        "# default: aggregate over entire array\n",
        "M.sum()"
      ],
      "metadata": {
        "colab": {
          "base_uri": "https://localhost:8080/"
        },
        "id": "jQoaxQmx-Br1",
        "outputId": "4f72f3fc-400a-4cd3-dc23-432029cb275a"
      },
      "execution_count": null,
      "outputs": [
        {
          "output_type": "execute_result",
          "data": {
            "text/plain": [
              "6.1362551272647154"
            ]
          },
          "metadata": {},
          "execution_count": 296
        }
      ]
    },
    {
      "cell_type": "markdown",
      "source": [
        "To aggregate across rows or columns, the axis argument can be used.\n",
        "\n",
        "The axis keyword specifies the dimension of the array that will be collapsed, rather than the dimension that will be returned."
      ],
      "metadata": {
        "id": "0BzVo3x1-XAk"
      }
    },
    {
      "cell_type": "code",
      "source": [
        "# minimum value in each column: axis=0 (vertical along rows)\n",
        "M.min(axis=0)"
      ],
      "metadata": {
        "colab": {
          "base_uri": "https://localhost:8080/"
        },
        "id": "hBtr2N6s-fig",
        "outputId": "ac3753fb-9329-4433-df27-e4bd9253692e"
      },
      "execution_count": null,
      "outputs": [
        {
          "output_type": "execute_result",
          "data": {
            "text/plain": [
              "array([0.50063048, 0.07383653, 0.25518136, 0.13130483])"
            ]
          },
          "metadata": {},
          "execution_count": 297
        }
      ]
    },
    {
      "cell_type": "code",
      "source": [
        "# maximum value in each row: axis=1 (horizontal along columns)\n",
        "M.max(axis=1)"
      ],
      "metadata": {
        "colab": {
          "base_uri": "https://localhost:8080/"
        },
        "id": "ZETU-gg8-qIh",
        "outputId": "f6c19abd-2874-4ea5-d14f-c6e674afb40e"
      },
      "execution_count": null,
      "outputs": [
        {
          "output_type": "execute_result",
          "data": {
            "text/plain": [
              "array([0.72521956, 0.99559424, 0.88518089])"
            ]
          },
          "metadata": {},
          "execution_count": 298
        }
      ]
    },
    {
      "cell_type": "markdown",
      "source": [
        "Other aggregation functions (including their NaN-safe versions) are listed below.\n",
        "\n",
        "The following table provides a list of useful aggregation functions available in NumPy:\n",
        "\n",
        "|Function Name      |   NaN-safe Version  | Description                                   |\n",
        "|-------------------|---------------------|-----------------------------------------------|\n",
        "| ``np.sum``        | ``np.nansum``       | Compute sum of elements                       |\n",
        "| ``np.prod``       | ``np.nanprod``      | Compute product of elements                   |\n",
        "| ``np.mean``       | ``np.nanmean``      | Compute mean of elements                      |\n",
        "| ``np.std``        | ``np.nanstd``       | Compute standard deviation                    |\n",
        "| ``np.var``        | ``np.nanvar``       | Compute variance                              |\n",
        "| ``np.min``        | ``np.nanmin``       | Find minimum value                            |\n",
        "| ``np.max``        | ``np.nanmax``       | Find maximum value                            |\n",
        "| ``np.argmin``     | ``np.nanargmin``    | Find index of minimum value                   |\n",
        "| ``np.argmax``     | ``np.nanargmax``    | Find index of maximum value                   |\n",
        "| ``np.median``     | ``np.nanmedian``    | Compute median of elements                    |\n",
        "| ``np.percentile`` | ``np.nanpercentile``| Compute rank-based statistics of elements     |\n",
        "| ``np.any``        | N/A                 | Evaluate whether any elements are true        |\n",
        "| ``np.all``        | N/A                 | Evaluate whether all elements are true        |\n"
      ],
      "metadata": {
        "id": "BkEKBqsF_dZK"
      }
    },
    {
      "cell_type": "markdown",
      "source": [
        "## Example: What Is the Average Height of US Presidents?"
      ],
      "metadata": {
        "id": "Ykf_54sw_pal"
      }
    },
    {
      "cell_type": "code",
      "source": [
        "from google.colab import drive\n",
        "drive.mount('/content/drive')"
      ],
      "metadata": {
        "colab": {
          "base_uri": "https://localhost:8080/"
        },
        "id": "PNwzwSfaDdvc",
        "outputId": "bcc970ca-5ff7-4456-84aa-e5077c0da6a6"
      },
      "execution_count": 301,
      "outputs": [
        {
          "output_type": "stream",
          "name": "stdout",
          "text": [
            "Drive already mounted at /content/drive; to attempt to forcibly remount, call drive.mount(\"/content/drive\", force_remount=True).\n"
          ]
        }
      ]
    },
    {
      "cell_type": "code",
      "source": [
        "!head -4 /content/drive/MyDrive/Colab_Notebooks/president_heights.csv"
      ],
      "metadata": {
        "colab": {
          "base_uri": "https://localhost:8080/"
        },
        "id": "SKAUEN5dD5ex",
        "outputId": "dd367d53-f881-4a7b-c819-7b94be0ec042"
      },
      "execution_count": 308,
      "outputs": [
        {
          "output_type": "stream",
          "name": "stdout",
          "text": [
            "order,name,height(cm)\n",
            "1,George Washington,189\n",
            "2,John Adams,170\n",
            "3,Thomas Jefferson,189\n"
          ]
        }
      ]
    },
    {
      "cell_type": "code",
      "source": [
        "# read in data using Pandas\n",
        "import pandas as pd\n",
        "data = pd.read_csv('/content/drive/MyDrive/Colab_Notebooks/president_heights.csv')\n",
        "heights = np.array(data['height(cm)'])\n",
        "print(heights)"
      ],
      "metadata": {
        "colab": {
          "base_uri": "https://localhost:8080/"
        },
        "id": "-ZnnZCCxEHAo",
        "outputId": "0ccd1e15-fc6c-4914-a83d-b5db4dda015b"
      },
      "execution_count": 311,
      "outputs": [
        {
          "output_type": "stream",
          "name": "stdout",
          "text": [
            "[189 170 189 163 183 171 185 168 173 183 173 173 175 178 183 193 178 173\n",
            " 174 183 183 168 170 178 182 180 183 178 182 188 175 179 183 193 182 183\n",
            " 177 185 188 188 182 185]\n"
          ]
        }
      ]
    },
    {
      "cell_type": "code",
      "source": [
        "# use heights array to compute variety of summary statistics\n",
        "print(\"Mean height: \", heights.mean())\n",
        "print(\"Standard deviation:\", heights.std())\n",
        "print(\"Minimum height: \", heights.min())\n",
        "print(\"Maximum height: \", heights.max())\n",
        "print(\"25th percentile: \", np.percentile(heights, 25))\n",
        "print(\"Median: \", np.median(heights))\n",
        "print(\"75th percentile: \", np.percentile(heights, 75))"
      ],
      "metadata": {
        "colab": {
          "base_uri": "https://localhost:8080/"
        },
        "id": "kVc6Uoa6EpdV",
        "outputId": "cd8cd5dc-7d6f-4016-8789-1b37eaf50d65"
      },
      "execution_count": 313,
      "outputs": [
        {
          "output_type": "stream",
          "name": "stdout",
          "text": [
            "Mean height:  179.73809523809524\n",
            "Standard deviation: 6.931843442745892\n",
            "Minimum height:  163\n",
            "Maximum height:  193\n",
            "25th percentile:  174.25\n",
            "Median:  182.0\n",
            "75th percentile:  183.0\n"
          ]
        }
      ]
    },
    {
      "cell_type": "code",
      "source": [
        "%matplotlib inline\n",
        "import matplotlib.pyplot as plt\n",
        "import seaborn; seaborn.set() # set plot style"
      ],
      "metadata": {
        "id": "nlcg9u1fE9f5"
      },
      "execution_count": 314,
      "outputs": []
    },
    {
      "cell_type": "code",
      "source": [
        "# create histogram plotting absolute frequencies\n",
        "plt.hist(heights)\n",
        "plt.title('Height Distribution of US Presidents')\n",
        "plt.xlabel('height (cm)')\n",
        "plt.ylabel('number');"
      ],
      "metadata": {
        "colab": {
          "base_uri": "https://localhost:8080/",
          "height": 301
        },
        "id": "dQGEE8NCFB52",
        "outputId": "c7b10dd9-bbf7-4aad-db5e-4f71c991cb6c"
      },
      "execution_count": 315,
      "outputs": [
        {
          "output_type": "display_data",
          "data": {
            "text/plain": [
              "<Figure size 432x288 with 1 Axes>"
            ],
            "image/png": "[encoded data removed]"
          },
          "metadata": {}
        }
      ]
    },
    {
      "cell_type": "markdown",
      "source": [
        "## Computation on Arrays: Broadcasting\n",
        "\n",
        "Broadcasting is simply a set of rules for applying binary ufuncs (addition, subtraction, multiplication, etc.) on arrays of different sizes."
      ],
      "metadata": {
        "id": "jdYc0DIjFUtp"
      }
    },
    {
      "cell_type": "code",
      "source": [
        "# for arrays of the same size, binary operations are performed on an element-by-element basis\n",
        "a = np.array([0, 1, 2])\n",
        "b = np.array([5, 5, 5])\n",
        "a + b"
      ],
      "metadata": {
        "colab": {
          "base_uri": "https://localhost:8080/"
        },
        "id": "RDrGS4tDFl56",
        "outputId": "04ac3dc0-7ce4-4fad-d448-ecdffbf5bf2b"
      },
      "execution_count": 319,
      "outputs": [
        {
          "output_type": "execute_result",
          "data": {
            "text/plain": [
              "array([5, 6, 7])"
            ]
          },
          "metadata": {},
          "execution_count": 319
        }
      ]
    },
    {
      "cell_type": "code",
      "source": [
        "# this is the same as \n",
        "# duplicate the value 5 into the array [5, 5, 5], and add results\n",
        "a + 5"
      ],
      "metadata": {
        "colab": {
          "base_uri": "https://localhost:8080/"
        },
        "id": "NT0dFW4bFyqh",
        "outputId": "c813ed40-0aaa-4990-bd85-d583f846127c"
      },
      "execution_count": 320,
      "outputs": [
        {
          "output_type": "execute_result",
          "data": {
            "text/plain": [
              "array([5, 6, 7])"
            ]
          },
          "metadata": {},
          "execution_count": 320
        }
      ]
    },
    {
      "cell_type": "code",
      "source": [
        "# extend to higher dimension\n",
        "M = np.ones((3, 3))\n",
        "M"
      ],
      "metadata": {
        "colab": {
          "base_uri": "https://localhost:8080/"
        },
        "id": "JC59s1jcGMEl",
        "outputId": "da091fe2-6a65-410c-ba98-e3bab36391b4"
      },
      "execution_count": 321,
      "outputs": [
        {
          "output_type": "execute_result",
          "data": {
            "text/plain": [
              "array([[1., 1., 1.],\n",
              "       [1., 1., 1.],\n",
              "       [1., 1., 1.]])"
            ]
          },
          "metadata": {},
          "execution_count": 321
        }
      ]
    },
    {
      "cell_type": "code",
      "source": [
        "# one-dimensional array a is stretched, or broadcast, across the second dimension in order to match the shape of M\n",
        "M + a"
      ],
      "metadata": {
        "colab": {
          "base_uri": "https://localhost:8080/"
        },
        "id": "LI_cO-oaGTzT",
        "outputId": "48e04ca0-6a51-431a-c28f-ef11042e1144"
      },
      "execution_count": 322,
      "outputs": [
        {
          "output_type": "execute_result",
          "data": {
            "text/plain": [
              "array([[1., 2., 3.],\n",
              "       [1., 2., 3.],\n",
              "       [1., 2., 3.]])"
            ]
          },
          "metadata": {},
          "execution_count": 322
        }
      ]
    },
    {
      "cell_type": "code",
      "source": [
        "# broadcast both arrays\n",
        "a = np.arange(3)\n",
        "b = np.arange(3)[:, np.newaxis]\n",
        "print(a)\n",
        "print(b)"
      ],
      "metadata": {
        "colab": {
          "base_uri": "https://localhost:8080/"
        },
        "id": "9Ij9vHhsGeqt",
        "outputId": "f8346361-3fb5-4087-aa03-6e874cabdb04"
      },
      "execution_count": 323,
      "outputs": [
        {
          "output_type": "stream",
          "name": "stdout",
          "text": [
            "[0 1 2]\n",
            "[[0]\n",
            " [1]\n",
            " [2]]\n"
          ]
        }
      ]
    },
    {
      "cell_type": "code",
      "source": [
        "a + b\n",
        "# stretches a and b into common shape, resulting in two-dimensional array"
      ],
      "metadata": {
        "colab": {
          "base_uri": "https://localhost:8080/"
        },
        "id": "YGxSJKqgGl6y",
        "outputId": "ca975193-a2e6-46d7-9f2e-005964471c35"
      },
      "execution_count": 324,
      "outputs": [
        {
          "output_type": "execute_result",
          "data": {
            "text/plain": [
              "array([[0, 1, 2],\n",
              "       [1, 2, 3],\n",
              "       [2, 3, 4]])"
            ]
          },
          "metadata": {},
          "execution_count": 324
        }
      ]
    },
    {
      "cell_type": "markdown",
      "source": [
        "![image.png](data:image/png;base64,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)"
      ],
      "metadata": {
        "id": "QVVtwEdVHJTk"
      }
    },
    {
      "cell_type": "markdown",
      "source": [
        "### Rules of Broadcasting\n",
        "\n",
        "\n",
        "\n",
        "*   Rule 1: If the two arrays differ in their number of dimensions, the shape of the one with fewer dimensions is padded with ones on its leading (left) side.\n",
        "*   Rule 2: If the shape of the two arrays does not match in any dimension, the array with shape equal to 1 in that dimension is stretched to match the other shape.\n",
        "*   Rule 3: If in any dimension the sizes disagree and neither is equal to 1, an error is raised.\n",
        "\n",
        "Note: broadcasting rules apply to any binary ufunc. "
      ],
      "metadata": {
        "id": "9XieG4QbHRsK"
      }
    },
    {
      "cell_type": "code",
      "source": [
        "M = np.ones((2, 3))\n",
        "a = np.arange(3)\n",
        "print(M)\n",
        "print(a)"
      ],
      "metadata": {
        "colab": {
          "base_uri": "https://localhost:8080/"
        },
        "id": "ft0-Vbv9Hm7n",
        "outputId": "9572ad61-671a-42f3-f0f8-206b228d1876"
      },
      "execution_count": 328,
      "outputs": [
        {
          "output_type": "stream",
          "name": "stdout",
          "text": [
            "[[1. 1. 1.]\n",
            " [1. 1. 1.]]\n",
            "[0 1 2]\n"
          ]
        }
      ]
    },
    {
      "cell_type": "code",
      "source": [
        "print(M.shape)\n",
        "print(a.shape)"
      ],
      "metadata": {
        "colab": {
          "base_uri": "https://localhost:8080/"
        },
        "id": "sBWpUmWBH55n",
        "outputId": "f3bf2669-b768-4ac4-d5a9-5648bf00ff46"
      },
      "execution_count": 327,
      "outputs": [
        {
          "output_type": "stream",
          "name": "stdout",
          "text": [
            "(2, 3)\n",
            "(3,)\n"
          ]
        }
      ]
    },
    {
      "cell_type": "markdown",
      "source": [
        "We see by rule 1 that the array a has fewer dimensions, so we pad it on the left with ones:\n",
        "\n",
        "M.shape -> (2, 3)\n",
        "a.shape -> (1, 3)\n",
        "\n",
        "By rule 2, we now see that the first dimension disagrees, so we stretch this dimension to match:\n",
        "\n",
        "M.shape -> (2, 3)\n",
        "a.shape -> (2, 3)\n",
        "\n",
        "The shapes match, and we see that the final shape will be (2, 3):"
      ],
      "metadata": {
        "id": "ZZf-lGuJIQ-y"
      }
    },
    {
      "cell_type": "code",
      "source": [
        "M + a"
      ],
      "metadata": {
        "colab": {
          "base_uri": "https://localhost:8080/"
        },
        "id": "0zAHhbeOIZFn",
        "outputId": "5d1e7852-d071-4018-da4d-8e85498f2296"
      },
      "execution_count": 329,
      "outputs": [
        {
          "output_type": "execute_result",
          "data": {
            "text/plain": [
              "array([[1., 2., 3.],\n",
              "       [1., 2., 3.]])"
            ]
          },
          "metadata": {},
          "execution_count": 329
        }
      ]
    },
    {
      "cell_type": "code",
      "source": [
        "a = np.arange(3).reshape((3, 1))\n",
        "b = np.arange(3)\n",
        "print(a)\n",
        "print(a.shape)\n",
        "print(b)\n",
        "print(b.shape)"
      ],
      "metadata": {
        "colab": {
          "base_uri": "https://localhost:8080/"
        },
        "id": "sWR656aQYA2j",
        "outputId": "d9fe8973-8dd9-4c20-b526-464be8411f2b"
      },
      "execution_count": 333,
      "outputs": [
        {
          "output_type": "stream",
          "name": "stdout",
          "text": [
            "[[0]\n",
            " [1]\n",
            " [2]]\n",
            "(3, 1)\n",
            "[0 1 2]\n",
            "(3,)\n"
          ]
        }
      ]
    },
    {
      "cell_type": "markdown",
      "source": [
        "Rule 1 says we must pad the shape of b with ones:\n",
        "\n",
        "a.shape -> (3, 1)\n",
        "b.shape -> (1, 3)\n",
        "\n",
        "And rule 2 tells us that we upgrade each of these ones to match the corresponding size of the other array:\n",
        "\n",
        "a.shape -> (3, 3)\n",
        "b.shape -> (3, 3)"
      ],
      "metadata": {
        "id": "vLi-72ZtYMwz"
      }
    },
    {
      "cell_type": "code",
      "source": [
        "a + b"
      ],
      "metadata": {
        "colab": {
          "base_uri": "https://localhost:8080/"
        },
        "id": "XKzCWIm5YRNG",
        "outputId": "eda079f8-6995-4da8-d5cb-db6b5ff901d2"
      },
      "execution_count": 332,
      "outputs": [
        {
          "output_type": "execute_result",
          "data": {
            "text/plain": [
              "array([[0, 1, 2],\n",
              "       [1, 2, 3],\n",
              "       [2, 3, 4]])"
            ]
          },
          "metadata": {},
          "execution_count": 332
        }
      ]
    },
    {
      "cell_type": "code",
      "source": [
        "M = np.ones((3, 2)) # compared to above, matrix M is transposed\n",
        "a = np.arange(3)\n",
        "\n",
        "print(M)\n",
        "print(a)\n",
        "\n",
        "print(M.shape)\n",
        "print(a.shape)"
      ],
      "metadata": {
        "colab": {
          "base_uri": "https://localhost:8080/"
        },
        "id": "6-9zEblXYb5t",
        "outputId": "2c8d3873-042c-4f11-9ccc-14b4f7403cba"
      },
      "execution_count": 336,
      "outputs": [
        {
          "output_type": "stream",
          "name": "stdout",
          "text": [
            "[[1. 1.]\n",
            " [1. 1.]\n",
            " [1. 1.]]\n",
            "[0 1 2]\n",
            "(3, 2)\n",
            "(3,)\n"
          ]
        }
      ]
    },
    {
      "cell_type": "markdown",
      "source": [
        "Again, rule 1 tells us that we must pad the shape of a with ones:\n",
        "\n",
        "M.shape -> (3, 2)\n",
        "a.shape -> (1, 3)\n",
        "\n",
        "By rule 2, the first dimension of a is stretched to match that of M:\n",
        "\n",
        "M.shape -> (3, 2)\n",
        "a.shape -> (3, 3)\n",
        "\n",
        "Now we hit rule 3 — the final shapes do not match, so these two arrays are incompatible,"
      ],
      "metadata": {
        "id": "t9gO3TRRYyar"
      }
    },
    {
      "cell_type": "code",
      "source": [
        "M + a"
      ],
      "metadata": {
        "colab": {
          "base_uri": "https://localhost:8080/",
          "height": 169
        },
        "id": "DMiQcfC8YyAW",
        "outputId": "aae6cffd-fdeb-4740-a625-29badd31299b"
      },
      "execution_count": 337,
      "outputs": [
        {
          "output_type": "error",
          "ename": "ValueError",
          "evalue": "ignored",
          "traceback": [
            "\u001b[0;31m---------------------------------------------------------------------------\u001b[0m",
            "\u001b[0;31mValueError\u001b[0m                                Traceback (most recent call last)",
            "\u001b[0;32m<ipython-input-337-8cac1d547906>\u001b[0m in \u001b[0;36m<module>\u001b[0;34m\u001b[0m\n\u001b[0;32m----> 1\u001b[0;31m \u001b[0mM\u001b[0m \u001b[0;34m+\u001b[0m \u001b[0ma\u001b[0m\u001b[0;34m\u001b[0m\u001b[0;34m\u001b[0m\u001b[0m\n\u001b[0m",
            "\u001b[0;31mValueError\u001b[0m: operands could not be broadcast together with shapes (3,2) (3,) "
          ]
        }
      ]
    },
    {
      "cell_type": "markdown",
      "source": [
        "The arrays M and a could only be made compatible by padding a’s shape with ones on the right rather than the left.\n",
        "\n",
        "To achieve right-sided padding, np.newaxis keyword can be used."
      ],
      "metadata": {
        "id": "sQQHaRRJZCnY"
      }
    },
    {
      "cell_type": "code",
      "source": [
        "a[:, np.newaxis].shape"
      ],
      "metadata": {
        "colab": {
          "base_uri": "https://localhost:8080/"
        },
        "id": "pIJUUg9rZW2e",
        "outputId": "2849fbe2-8dd9-4a29-db7e-d90c01660b0a"
      },
      "execution_count": 338,
      "outputs": [
        {
          "output_type": "execute_result",
          "data": {
            "text/plain": [
              "(3, 1)"
            ]
          },
          "metadata": {},
          "execution_count": 338
        }
      ]
    },
    {
      "cell_type": "code",
      "source": [
        "M + a[:, np.newaxis]"
      ],
      "metadata": {
        "colab": {
          "base_uri": "https://localhost:8080/"
        },
        "id": "KG70SWEEZY6R",
        "outputId": "5254b1d2-f84a-4296-ff3d-2a2c1dcfdd1e"
      },
      "execution_count": 339,
      "outputs": [
        {
          "output_type": "execute_result",
          "data": {
            "text/plain": [
              "array([[1., 1.],\n",
              "       [2., 2.],\n",
              "       [3., 3.]])"
            ]
          },
          "metadata": {},
          "execution_count": 339
        }
      ]
    },
    {
      "cell_type": "markdown",
      "source": [
        "### Examples of broadcasting\n",
        "\n",
        "When centring a value, broadcasting is applied.\n",
        "\n"
      ],
      "metadata": {
        "id": "NdYnPhmwdegM"
      }
    },
    {
      "cell_type": "code",
      "source": [
        "# sample random variables \n",
        "X = np.random.random((10, 3)) # array with 10 rows and 3 columns\n",
        "\n",
        "# compute mean across first dimension (axis=0)\n",
        "# i.e., vertically along rows\n",
        "# to create mean value per column\n",
        "Xmean = X.mean(axis=0)\n",
        "print(Xmean)\n",
        "print(Xmean.shape) # array with shape (3,)"
      ],
      "metadata": {
        "colab": {
          "base_uri": "https://localhost:8080/"
        },
        "id": "SzXcv3Kmdr13",
        "outputId": "f68c6806-0e9c-49c8-a61b-e99751a7ab2f"
      },
      "execution_count": 353,
      "outputs": [
        {
          "output_type": "stream",
          "name": "stdout",
          "text": [
            "[0.62332442 0.72336141 0.42296594]\n",
            "(3,)\n"
          ]
        }
      ]
    },
    {
      "cell_type": "code",
      "source": [
        "# centre X array by subtracting mean (this is a broadcasting operation)\n",
        "X_centred = X - Xmean # Xmean broadcasted to shape (3,10)\n",
        "print(X_centred)\n",
        "print(X_centred.mean(axis=0))"
      ],
      "metadata": {
        "colab": {
          "base_uri": "https://localhost:8080/"
        },
        "id": "EBs1ZfYMebaO",
        "outputId": "a3aa8ed3-51e4-4829-dcc5-69bdc4a2e10f"
      },
      "execution_count": 346,
      "outputs": [
        {
          "output_type": "stream",
          "name": "stdout",
          "text": [
            "[[ 0.05013574  0.30349309  0.4273876 ]\n",
            " [-0.00241337  0.24058269 -0.34524148]\n",
            " [-0.15436631  0.04282404  0.32993168]\n",
            " [-0.04073445 -0.09712376 -0.006529  ]\n",
            " [ 0.42257803  0.41401918  0.26660623]\n",
            " [ 0.20832885 -0.20474634 -0.01149897]\n",
            " [-0.20034115 -0.49782462 -0.40009313]\n",
            " [-0.48637348  0.22913099 -0.09485314]\n",
            " [ 0.25678954 -0.31715005 -0.17999473]\n",
            " [-0.05360341 -0.11320522  0.01428494]]\n",
            "[-3.33066907e-17 -1.11022302e-17  0.00000000e+00]\n"
          ]
        }
      ]
    },
    {
      "cell_type": "markdown",
      "source": [
        "When plotting images based on two-dimensional functions, broadcasting can be used to compute the function across the grid."
      ],
      "metadata": {
        "id": "JcD9H9rificx"
      }
    },
    {
      "cell_type": "code",
      "source": [
        "# x and y have 50 steps from 0 to 5\n",
        "x = np.linspace(0, 5, 50) # shape: (50,)\n",
        "y = np.linspace(0, 5, 50)[:, np.newaxis] # shape: (50,1)\n",
        "\n",
        "# define a function z = f(x, y)\n",
        "z = np.sin(x) ** 10 + np.cos(10 + y * x) * np.cos(x)"
      ],
      "metadata": {
        "colab": {
          "base_uri": "https://localhost:8080/"
        },
        "id": "rC1LEjnJfta-",
        "outputId": "746ea713-3290-4fb2-9b43-f3a160cd94a9"
      },
      "execution_count": 357,
      "outputs": [
        {
          "output_type": "stream",
          "name": "stdout",
          "text": [
            "(50,)\n",
            "(50, 1)\n"
          ]
        }
      ]
    },
    {
      "cell_type": "code",
      "source": [
        "%matplotlib inline\n",
        "import matplotlib.pyplot as plt\n",
        "\n",
        "plt.imshow(z, origin='lower', extent=[0, 5, 0, 5],\n",
        "           cmap='viridis')\n",
        "plt.colorbar();"
      ],
      "metadata": {
        "colab": {
          "base_uri": "https://localhost:8080/",
          "height": 272
        },
        "id": "8WQIBJF8gNdc",
        "outputId": "a31195ba-796a-4e43-8148-c1beea3a58f1"
      },
      "execution_count": 358,
      "outputs": [
        {
          "output_type": "display_data",
          "data": {
            "text/plain": [
              "<Figure size 432x288 with 2 Axes>"
            ],
            "image/png": "[encoded data removed]"
          },
          "metadata": {
            "needs_background": "light"
          }
        }
      ]
    }
  ]
}