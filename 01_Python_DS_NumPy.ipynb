{
  "nbformat": 4,
  "nbformat_minor": 0,
  "metadata": {
    "colab": {
      "provenance": [],
      "collapsed_sections": [],
      "authorship_tag": "ABX9TyOfedcTvLwx9ZBWdYcP/TTq",
      "include_colab_link": true
    },
    "kernelspec": {
      "name": "python3",
      "display_name": "Python 3"
    },
    "language_info": {
      "name": "python"
    }
  },
  "cells": [
    {
      "cell_type": "markdown",
      "metadata": {
        "id": "view-in-github",
        "colab_type": "text"
      },
      "source": [
        "<a href=\"https://colab.research.google.com/github/stefaniemeliss/Python_Data_Science/blob/main/01_Python_DS_NumPy.ipynb\" target=\"_parent\"><img src=\"https://colab.research.google.com/assets/colab-badge.svg\" alt=\"Open In Colab\"/></a>"
      ]
    },
    {
      "cell_type": "markdown",
      "source": [
        "# Introduction to NumPy"
      ],
      "metadata": {
        "id": "7IVLKCiQC18f"
      }
    },
    {
      "cell_type": "code",
      "execution_count": 1,
      "metadata": {
        "id": "KahxkU3NC1NT"
      },
      "outputs": [],
      "source": [
        "# import\n",
        "import numpy as np"
      ]
    },
    {
      "cell_type": "markdown",
      "source": [
        "In Python, types of variables are automatically inferred. \n",
        "\n",
        "Lists can be created based on heterogeneous elements (e.g., bool, str, float, int) and are then referred to as *dynamic-type* list.\n",
        "\n",
        "Lists with homogeneous elements are referred to as *fixed-type* list and computationally more efficient as they only need one pointer to a continous block of data."
      ],
      "metadata": {
        "id": "ZL6vzShZEeik"
      }
    },
    {
      "cell_type": "code",
      "source": [],
      "metadata": {
        "id": "dTgMRtpeHyYN"
      },
      "execution_count": null,
      "outputs": []
    }
  ]
}